{
 "cells": [
  {
   "cell_type": "markdown",
   "metadata": {},
   "source": [
    "# Numpy Exercise"
   ]
  },
  {
   "cell_type": "markdown",
   "metadata": {},
   "source": [
    "## Instructions\n",
    "The same instructions from previous exercises apply.\n",
    "\n",
    "Write the Python program in the cell below the text of the exercise (or create a new one). Always print the final result to the screen to verify the correctness of the exercise. Sometimes, we provide some important concepts in a code cell below the exercise text, try running it and modify it if necessary to ensure you understand the required concepts.\n",
    "\n",
    "## Submission\n",
    "The same rules from previous exercises apply.\n",
    "\n",
    "It is mandatory to **submit the solution for all exercises** (except for those marked as optional) **before the beginning of the next lesson** in the appropriate assignment on iCorsi. To submit:\n",
    "- Run the entire notebook from scratch (`Kernel -> Restart & Run All`) and ensure that the solutions are as expected;\n",
    "- Export the notebook in HTML format (`File -> Download as...`) and submit the resulting file.\n",
    "\n",
    "If you were unable to complete one or more exercises, describe the problem encountered and **still submit the file with the rest of the solutions**.\n"
   ]
  },
  {
   "cell_type": "code",
   "execution_count": 66,
   "metadata": {},
   "outputs": [],
   "source": [
    "# Import packaged for later usage\n",
    "import pandas as pd\n",
    "import numpy as np\n",
    "import os"
   ]
  },
  {
   "cell_type": "code",
   "execution_count": 67,
   "metadata": {},
   "outputs": [
    {
     "name": "stdout",
     "output_type": "stream",
     "text": [
      "[10 11 12 13 14 15 16 17 18 19 20 21 22 23 24 25 26 27 28 29 30 31 32 33\n",
      " 34 35 36 37 38 39 40 41 42 43 44 45 46 47 48 49]\n"
     ]
    }
   ],
   "source": [
    "# Solution\n",
    "array = np.arange(10, 50)\n",
    "print(array)"
   ]
  },
  {
   "cell_type": "code",
   "execution_count": 81,
   "metadata": {},
   "outputs": [
    {
     "name": "stdout",
     "output_type": "stream",
     "text": [
      "[[0.0586875  0.10049055 0.95489248 0.33559864 0.35627031]\n",
      " [0.4164043  0.56966898 0.79206862 0.43001347 0.19752532]\n",
      " [0.53153703 0.44525951 0.81477883 0.25742078 0.36499627]\n",
      " [0.90184671 0.19988151 0.26860622 0.26181502 0.63191188]\n",
      " [0.7619642  0.26787676 0.25000589 0.65620728 0.38864522]]\n"
     ]
    }
   ],
   "source": [
    "matrice = np.random.rand(5,5)\n",
    "print(matrice)"
   ]
  },
  {
   "cell_type": "code",
   "execution_count": 82,
   "metadata": {},
   "outputs": [
    {
     "name": "stdout",
     "output_type": "stream",
     "text": [
      "Min: 0.058687501839863154, Max: 0.9548924799823754\n"
     ]
    }
   ],
   "source": [
    "min = np.min(matrice)\n",
    "max = np.max(matrice)\n",
    "print(f\"Min: {min}, Max: {max}\")"
   ]
  },
  {
   "cell_type": "code",
   "execution_count": 83,
   "metadata": {},
   "outputs": [
    {
     "name": "stdout",
     "output_type": "stream",
     "text": [
      "[[1. 1. 1. 1. 1.]\n",
      " [1. 0. 0. 0. 1.]\n",
      " [1. 0. 0. 0. 1.]\n",
      " [1. 0. 0. 0. 1.]\n",
      " [1. 1. 1. 1. 1.]]\n"
     ]
    }
   ],
   "source": [
    "frame = np.ones((5, 5))\n",
    "frame[1:-1, 1:-1] = 0\n",
    "print(frame)"
   ]
  },
  {
   "cell_type": "code",
   "execution_count": 84,
   "metadata": {},
   "outputs": [
    {
     "name": "stdout",
     "output_type": "stream",
     "text": [
      "[ 0. 10. 11. 12. 13. 14. 15. 16. 17. 18. 19. 20. 21. 22. 23. 24. 25. 26.\n",
      " 27. 28. 29. 30. 31. 32. 33. 34. 35. 36. 37. 38. 39. 40. 41. 42. 43. 44.\n",
      " 45. 46. 47. 48. 49.  0.]\n"
     ]
    }
   ],
   "source": [
    "def zeroFrame(arr, n=2):\n",
    "    tmp = np.zeros(len(arr) + n)\n",
    "    tmp[int(n/2):-int(n/2)] = arr\n",
    "    return tmp\n",
    "    \n",
    "arr = zeroFrame(array)\n",
    "print(arr)"
   ]
  },
  {
   "cell_type": "code",
   "execution_count": 85,
   "metadata": {},
   "outputs": [
    {
     "name": "stdout",
     "output_type": "stream",
     "text": [
      "[[False  True False  True False  True False  True]\n",
      " [ True False  True False  True False  True False]\n",
      " [False  True False  True False  True False  True]\n",
      " [ True False  True False  True False  True False]\n",
      " [False  True False  True False  True False  True]\n",
      " [ True False  True False  True False  True False]\n",
      " [False  True False  True False  True False  True]\n",
      " [ True False  True False  True False  True False]]\n",
      "\n"
     ]
    }
   ],
   "source": [
    "checkerboard = np.zeros((8, 8), dtype=bool)\n",
    "checkerboard[1::2, ::2] = True\n",
    "checkerboard[::2, 1::2] = True\n",
    "print(checkerboard)\n",
    "print()"
   ]
  },
  {
   "cell_type": "code",
   "execution_count": 86,
   "metadata": {},
   "outputs": [
    {
     "name": "stdout",
     "output_type": "stream",
     "text": [
      "[ 1  2  3  4  5  6  7  8  9 10]\n",
      "[ 1  2  3  4 -5 -6 -7 -8  9 10]\n"
     ]
    }
   ],
   "source": [
    "def negate_between_5_and_8(arr):\n",
    "    arr = np.array(arr)\n",
    "    mask = (arr >= 5) & (arr <= 8)\n",
    "    arr[mask] = -arr[mask]\n",
    "    return arr\n",
    "print(np.arange(1,11))\n",
    "print(negate_between_5_and_8(np.arange(1,11)))"
   ]
  },
  {
   "cell_type": "code",
   "execution_count": 87,
   "metadata": {},
   "outputs": [
    {
     "name": "stdout",
     "output_type": "stream",
     "text": [
      "1\n"
     ]
    }
   ],
   "source": [
    "def find_closest_index(arr, x):\n",
    "    arr = np.array(arr)\n",
    "    index = np.argmin(np.abs(arr - x))\n",
    "    return index\n",
    "\n",
    "# Example usage\n",
    "arr = [-1, 3, 6, 9, 5]\n",
    "closest_index = find_closest_index(arr, 2)\n",
    "print(closest_index)"
   ]
  },
  {
   "cell_type": "markdown",
   "metadata": {},
   "source": [
    "## Exercise 1\n",
    "\n",
    "Let's consider the online dating profiles dataset, which we mentioned in class.\n",
    "\n",
    "Download the zip files from [this link](https://github.com/rudeboybert/JSE_OkCupid), unzip them, and place the files `profiles_revised.csv` and `essays_revised_and_shuffled.csv` in a `data` subdirectory in the current directory. Then, run the following cell, which uses the pandas library (which we will cover in detail later) to parse the CSV."
   ]
  },
  {
   "cell_type": "markdown",
   "metadata": {},
   "source": [
    "The current directory, where we expect to find the file, is this:"
   ]
  },
  {
   "cell_type": "code",
   "execution_count": 91,
   "metadata": {},
   "outputs": [
    {
     "name": "stdout",
     "output_type": "stream",
     "text": [
      "/Users/lucamazza/School/datascience/data\n"
     ]
    }
   ],
   "source": [
    "print(os.getcwd()+\"/data\")"
   ]
  },
  {
   "cell_type": "code",
   "execution_count": 92,
   "metadata": {},
   "outputs": [],
   "source": [
    "df = pd.read_csv(\"data/profiles_revised.csv\")\n",
    "age = df[\"age\"].values\n",
    "sex = df[\"sex\"].values\n",
    "\n",
    "dfe = pd.read_csv(\"data/essays_revised_and_shuffled.csv\")\n",
    "essay = dfe[\"essay0\"].values"
   ]
  },
  {
   "cell_type": "markdown",
   "metadata": {},
   "source": [
    "### 1.1\n",
    "\n",
    "Read the [codebook](https://github.com/rudeboybert/JSE_OkCupid/blob/master/okcupid_codebook_revised.txt) for the dataset, focusing on the three columns \"age\", \"sex\", and \"essay0\".\n",
    "\n",
    "Explain the type of the `age`, `sex`, and `essay` arrays; visualize some elements from them."
   ]
  },
  {
   "cell_type": "code",
   "execution_count": 99,
   "metadata": {
    "scrolled": true
   },
   "outputs": [
    {
     "name": "stdout",
     "output_type": "stream",
     "text": [
      "[22 36 37 ... 41 26 40]\n",
      "['m' 'm' 'm' ... 'm' 'm' 'm']\n"
     ]
    }
   ],
   "source": [
    "# Solution 1.1\n",
    "print(age)\n",
    "print(sex)\n"
   ]
  },
  {
   "cell_type": "markdown",
   "metadata": {},
   "source": [
    "### 1.2\n",
    "\n",
    "Analyze the arrays with the numpy methods you know and answer the following questions:\n",
    "- What is the average, minimum, and maximum age of the users?\n",
    "- How many are male, and how many are female?\n",
    "- Does the average age of males differ significantly from the average age of females?\n",
    "- How long are their introductions on average?\n",
    "- Show the longest introduction.\n",
    "- Can we determine if males tend to write more compared to females?"
   ]
  },
  {
   "cell_type": "code",
   "execution_count": null,
   "metadata": {},
   "outputs": [],
   "source": [
    "# Solution 1.2\n"
   ]
  },
  {
   "cell_type": "markdown",
   "metadata": {},
   "source": [
    "## Exercise 2"
   ]
  },
  {
   "cell_type": "markdown",
   "metadata": {},
   "source": [
    "### 2.1\n",
    "Write a function `primeNumbers(N)` that takes as an (optional) input argument an integer `N` (default value `N=1000`) and returns an array with all prime numbers less than or equal to `N` (neither 0 nor 1 should be considered)."
   ]
  },
  {
   "cell_type": "code",
   "execution_count": null,
   "metadata": {},
   "outputs": [],
   "source": [
    "# Solution 2.1\n"
   ]
  },
  {
   "cell_type": "markdown",
   "metadata": {},
   "source": [
    "### 2.2\n",
    "Write a function `createMyDictionary(N)` that takes as an (optional) input argument an integer `N` (default value `N=1000`) and returns a dictionary with two elements. The first element has the key \"middle\", associated with an array of all prime numbers between $\\frac{1}{4}N$ e $\\frac{3}{4}N$ (inclusive). The second element has the key \"extremes\" and contains the remaining prime numbers less than $N$. Hint: Use the previously created function `primeNumbers(N)`."
   ]
  },
  {
   "cell_type": "code",
   "execution_count": null,
   "metadata": {},
   "outputs": [],
   "source": [
    "# Hint\n",
    "\n",
    "# Remember that the logical AND (or OR) between 2 Boolean variables (or Boolean arrays)\n",
    "# is performed in Python using the operator `&` (or `|` respectively)\n",
    "\n",
    "array1 = np.array(np.arange(10))\n",
    "print(f\"array1: {array1}\")\n",
    "\n",
    "mask1 = (array1 > 2) & (array1 < 8)\n",
    "print(\"mask1: \", mask1)\n",
    "\n",
    "mask2 = (array1[0:3] == 2) | (array1[0:3] == 1)\n",
    "print(\"mask2: \", mask2)"
   ]
  },
  {
   "cell_type": "code",
   "execution_count": null,
   "metadata": {},
   "outputs": [],
   "source": [
    "# Solution 2.2\n"
   ]
  }
 ],
 "metadata": {
  "kernelspec": {
   "display_name": "Python 3 (ipykernel)",
   "language": "python",
   "name": "python3"
  },
  "language_info": {
   "codemirror_mode": {
    "name": "ipython",
    "version": 3
   },
   "file_extension": ".py",
   "mimetype": "text/x-python",
   "name": "python",
   "nbconvert_exporter": "python",
   "pygments_lexer": "ipython3",
   "version": "3.12.9"
  },
  "widgets": {
   "application/vnd.jupyter.widget-state+json": {
    "state": {},
    "version_major": 2,
    "version_minor": 0
   }
  }
 },
 "nbformat": 4,
 "nbformat_minor": 4
}
