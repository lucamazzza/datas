{
 "cells": [
  {
   "cell_type": "markdown",
   "metadata": {},
   "source": [
    "# Numpy Exercise"
   ]
  },
  {
   "cell_type": "markdown",
   "metadata": {},
   "source": [
    "## Instructions\n",
    "The same instructions from previous exercises apply.\n",
    "\n",
    "Write the Python program in the cell below the text of the exercise (or create a new one). Always print the final result to the screen to verify the correctness of the exercise. Sometimes, we provide some important concepts in a code cell below the exercise text, try running it and modify it if necessary to ensure you understand the required concepts.\n",
    "\n",
    "## Submission\n",
    "The same rules from previous exercises apply.\n",
    "\n",
    "It is mandatory to **submit the solution for all exercises** (except for those marked as optional) **before the beginning of the next lesson** in the appropriate assignment on iCorsi. To submit:\n",
    "- Run the entire notebook from scratch (`Kernel -> Restart & Run All`) and ensure that the solutions are as expected;\n",
    "- Export the notebook in HTML format (`File -> Download as...`) and submit the resulting file.\n",
    "\n",
    "If you were unable to complete one or more exercises, describe the problem encountered and **still submit the file with the rest of the solutions**.\n"
   ]
  },
  {
   "cell_type": "code",
   "execution_count": 1,
   "metadata": {},
   "outputs": [],
   "source": [
    "# Import packaged for later usage\n",
    "import pandas as pd\n",
    "import numpy as np\n",
    "import os"
   ]
  },
  {
   "cell_type": "code",
   "execution_count": 2,
   "metadata": {},
   "outputs": [
    {
     "name": "stdout",
     "output_type": "stream",
     "text": [
      "[10 11 12 13 14 15 16 17 18 19 20 21 22 23 24 25 26 27 28 29 30 31 32 33\n",
      " 34 35 36 37 38 39 40 41 42 43 44 45 46 47 48 49]\n"
     ]
    }
   ],
   "source": [
    "# Solution\n",
    "array = np.arange(10, 50)\n",
    "print(array)"
   ]
  },
  {
   "cell_type": "code",
   "execution_count": 3,
   "metadata": {},
   "outputs": [
    {
     "name": "stdout",
     "output_type": "stream",
     "text": [
      "[[0.4776683  0.27027942 0.50824538 0.10360465 0.36354893]\n",
      " [0.96829041 0.17593027 0.20433795 0.18434451 0.89227986]\n",
      " [0.60114759 0.06680908 0.53671689 0.18881901 0.86827668]\n",
      " [0.65028693 0.00774496 0.41923919 0.4202204  0.2236351 ]\n",
      " [0.09681501 0.6233033  0.0062507  0.82792469 0.83504821]]\n"
     ]
    }
   ],
   "source": [
    "matrice = np.random.rand(5,5)\n",
    "print(matrice)"
   ]
  },
  {
   "cell_type": "code",
   "execution_count": 4,
   "metadata": {},
   "outputs": [
    {
     "name": "stdout",
     "output_type": "stream",
     "text": [
      "Min: 0.006250700805777831, Max: 0.96829040504559\n"
     ]
    }
   ],
   "source": [
    "min = np.min(matrice)\n",
    "max = np.max(matrice)\n",
    "print(f\"Min: {min}, Max: {max}\")"
   ]
  },
  {
   "cell_type": "code",
   "execution_count": 5,
   "metadata": {},
   "outputs": [
    {
     "name": "stdout",
     "output_type": "stream",
     "text": [
      "[[1. 1. 1. 1. 1.]\n",
      " [1. 0. 0. 0. 1.]\n",
      " [1. 0. 0. 0. 1.]\n",
      " [1. 0. 0. 0. 1.]\n",
      " [1. 1. 1. 1. 1.]]\n"
     ]
    }
   ],
   "source": [
    "frame = np.ones((5, 5))\n",
    "frame[1:-1, 1:-1] = 0\n",
    "print(frame)"
   ]
  },
  {
   "cell_type": "code",
   "execution_count": 6,
   "metadata": {},
   "outputs": [
    {
     "name": "stdout",
     "output_type": "stream",
     "text": [
      "[ 0. 10. 11. 12. 13. 14. 15. 16. 17. 18. 19. 20. 21. 22. 23. 24. 25. 26.\n",
      " 27. 28. 29. 30. 31. 32. 33. 34. 35. 36. 37. 38. 39. 40. 41. 42. 43. 44.\n",
      " 45. 46. 47. 48. 49.  0.]\n"
     ]
    }
   ],
   "source": [
    "def zeroFrame(arr, n=2):\n",
    "    tmp = np.zeros(len(arr) + n)\n",
    "    tmp[int(n/2):-int(n/2)] = arr\n",
    "    return tmp\n",
    "    \n",
    "arr = zeroFrame(array)\n",
    "print(arr)"
   ]
  },
  {
   "cell_type": "code",
   "execution_count": 8,
   "metadata": {},
   "outputs": [
    {
     "name": "stdout",
     "output_type": "stream",
     "text": [
      "[[False  True False  True False  True False  True]\n",
      " [ True False  True False  True False  True False]\n",
      " [False  True False  True False  True False  True]\n",
      " [ True False  True False  True False  True False]\n",
      " [False  True False  True False  True False  True]\n",
      " [ True False  True False  True False  True False]\n",
      " [False  True False  True False  True False  True]\n",
      " [ True False  True False  True False  True False]]\n"
     ]
    }
   ],
   "source": [
    "checkerboard = np.zeros((8, 8), dtype=bool)\n",
    "checkerboard[1::2, ::2] = True\n",
    "checkerboard[::2, 1::2] = True\n",
    "print(checkerboard)"
   ]
  },
  {
   "cell_type": "code",
   "execution_count": 9,
   "metadata": {},
   "outputs": [
    {
     "name": "stdout",
     "output_type": "stream",
     "text": [
      "[ 1  2  3  4  5  6  7  8  9 10]\n",
      "[ 1  2  3  4 -5 -6 -7 -8  9 10]\n"
     ]
    }
   ],
   "source": [
    "def negate_between_5_and_8(arr):\n",
    "    arr = np.array(arr)\n",
    "    mask = (arr >= 5) & (arr <= 8)\n",
    "    arr[mask] = -arr[mask]\n",
    "    return arr\n",
    "print(np.arange(1,11))\n",
    "print(negate_between_5_and_8(np.arange(1,11)))"
   ]
  },
  {
   "cell_type": "code",
   "execution_count": 10,
   "metadata": {},
   "outputs": [
    {
     "name": "stdout",
     "output_type": "stream",
     "text": [
      "1\n"
     ]
    }
   ],
   "source": [
    "def find_closest_index(arr, x):\n",
    "    arr = np.array(arr)\n",
    "    index = np.argmin(np.abs(arr - x))\n",
    "    return index\n",
    "\n",
    "# Example usage\n",
    "arr = [-1, 3, 6, 9, 5]\n",
    "closest_index = find_closest_index(arr, 2)\n",
    "print(closest_index)"
   ]
  },
  {
   "cell_type": "markdown",
   "metadata": {},
   "source": [
    "## Exercise 1\n",
    "\n",
    "Let's consider the online dating profiles dataset, which we mentioned in class.\n",
    "\n",
    "Download the zip files from [this link](https://github.com/rudeboybert/JSE_OkCupid), unzip them, and place the files `profiles_revised.csv` and `essays_revised_and_shuffled.csv` in a `data` subdirectory in the current directory. Then, run the following cell, which uses the pandas library (which we will cover in detail later) to parse the CSV."
   ]
  },
  {
   "cell_type": "markdown",
   "metadata": {},
   "source": [
    "The current directory, where we expect to find the file, is this:"
   ]
  },
  {
   "cell_type": "code",
   "execution_count": 11,
   "metadata": {},
   "outputs": [
    {
     "name": "stdout",
     "output_type": "stream",
     "text": [
      "/Users/lucamazza/School/datascience/data\n"
     ]
    }
   ],
   "source": [
    "print(os.getcwd()+\"/data\")"
   ]
  },
  {
   "cell_type": "code",
   "execution_count": 13,
   "metadata": {},
   "outputs": [],
   "source": [
    "df = pd.read_csv(\"data/profiles_revised.csv\")\n",
    "age = df[\"age\"].values\n",
    "sex = df[\"sex\"].values\n",
    "\n",
    "dfe = pd.read_csv(\"data/essays_revised_and_shuffled.csv\")\n",
    "essay = dfe[\"essay0\"].values"
   ]
  },
  {
   "cell_type": "markdown",
   "metadata": {},
   "source": [
    "### 1.1\n",
    "\n",
    "Read the [codebook](https://github.com/rudeboybert/JSE_OkCupid/blob/master/okcupid_codebook_revised.txt) for the dataset, focusing on the three columns \"age\", \"sex\", and \"essay0\".\n",
    "\n",
    "Explain the type of the `age`, `sex`, and `essay` arrays; visualize some elements from them."
   ]
  },
  {
   "cell_type": "code",
   "execution_count": 14,
   "metadata": {
    "scrolled": true
   },
   "outputs": [
    {
     "name": "stdout",
     "output_type": "stream",
     "text": [
      "[22 36 37 ... 41 26 40]\n",
      "['m' 'm' 'm' ... 'm' 'm' 'm']\n",
      "['well hi there. my mantra this year is \"<a class=\"ilink\" href=\\n\"/interests?i=explore\">explore</a>.\" that may mean walking down an\\nuntrodden path, trying russian food, visiting another continent, or\\njust staring at a snail to see who blinks first. it may be a\\nstrange year, but it won\\'t be boring.'\n",
      " nan\n",
      " 'musician / writer / programmer from the woods of montana. dance\\nmusic enthusiast, secondhand film critic. owner of too many\\nguitars.'\n",
      " \"nothing in this world can take the place of persistence. talent\\nwill not; nothing is more common than unsuccessful people with\\ntalent. genius will not; unrewarded genius is almost a proverb.\\neducation will not; the world is full of educated derelicts.\\npersistence and determination alone are omnipotent. -calvin\\ncoolidge<br />\\n<br />\\ni'm a full time visual artist living and working in downtown sf.\\ni'm pretty busy these days juggling a few projects and preparing\\nfor a solo show in early april. trying to make the best of my free\\ntime... just hiked the presidio this weekend in search of andy\\ngoldsworthy installations and wildflower blooms... would like to\\nhike new trials in marin and see stephen de staebler at the de\\nyoung next weekend.<br />\\n<br />\\ni wear painting rags most of the day, but can clean up nicely. i'm\\ntattooless, but have designed a few for friends. i explore rather\\nserious and universal themes in my work, but do not take myself too\\nseriously. i listen to too much npr and probably drink too much\\ncoffee. i love to laugh. ha-ha!<br />\\n<br />\\ni am: creative, kind, laid-back, midwestern (all the good things\\nwithout the accent), in probably the best shape of my life,\\nopen-minded, queer-friendly, independent, a pretty good cook, a fan\\nof city arts &amp; lectures, ted, fresh air, philosophy talk &amp;\\nradiolab. i don't make a ton of money, but i am grateful for the\\nlife i have and share a pretty sweet art studio with two other\\namazing/successful painters a block off union square. i've been in\\nsf for 8 years now and have taught painting, figure drawing &amp;\\nillustration to youth, adults and college art students. teaching is\\na passion of mine (although currently i'm focussing full-time on\\nart). i have also been an artist professionally for 12 years\\nrunning. 2012 is off to a great start!\"\n",
      " \"i'm a sweet, sassy, easy going, low femme looking for romantic\\nand/or sexual and/or friendship connections. i live my life with\\nverve and sparkle. i enjoy good, passionate conversation. i like to\\nanalyze and assess and i like to frolic and play. i love a road\\ntrip, a camping trip, or a decadent float-around-on-the-water\\nweekend. i appreciate smart, self-reflective people who will\\nchallenge me and who are actively engaged with whatever it is that\\nexcites them. i'm a juicy jew and want to meet people (of any size,\\nrace or ethnicity) who appreciate that. i am especially attracted\\nto charming, kind, passionate and progressive types who are\\nsomewhat butch, boyish, and/or masculine.\"]\n"
     ]
    }
   ],
   "source": [
    "# Solution 1.1\n",
    "print(age)\n",
    "print(sex)\n",
    "print(essay[:5])"
   ]
  },
  {
   "cell_type": "markdown",
   "metadata": {},
   "source": [
    "### 1.2\n",
    "\n",
    "Analyze the arrays with the numpy methods you know and answer the following questions:\n",
    "- What is the average, minimum, and maximum age of the users?\n",
    "- How many are male, and how many are female?\n",
    "- Does the average age of males differ significantly from the average age of females?\n",
    "- How long are their introductions on average?\n",
    "- Show the longest introduction.\n",
    "- Can we determine if males tend to write more compared to females?"
   ]
  },
  {
   "cell_type": "code",
   "execution_count": 18,
   "metadata": {},
   "outputs": [
    {
     "name": "stdout",
     "output_type": "stream",
     "text": [
      "Average age: 32.33540186167551\n",
      "Minimum age: 17\n",
      "Maximum age: 111\n",
      "Number of males: 35829\n",
      "Number of females: 24117\n",
      "Average age of males: 32.012950403304586\n",
      "Average age of females: 32.81444624124062\n",
      "Average length of introductions: 59946.0 characters\n",
      "Longest introduction: well hi there. my mantra this year is \"<a class=\"ilink\" href=\n",
      "\"/interests?i=explore\">explore</a>.\" that may mean walking down an\n",
      "untrodden path, trying russian food, visiting another continent, or\n",
      "just staring at a snail to see who blinks first. it may be a\n",
      "strange year, but it won't be boring.\n",
      "Do males write more than females? No\n"
     ]
    }
   ],
   "source": [
    "# Solution 1.2\n",
    "average_age = np.mean(age)\n",
    "minimum_age = np.min(age)\n",
    "maximum_age = np.max(age)\n",
    "number_of_males = np.sum(sex == 'm')\n",
    "number_of_females = np.sum(sex == 'f')\n",
    "average_age_males = np.mean(age[sex == 'm'])\n",
    "average_age_females = np.mean(age[sex == 'f'])\n",
    "average_length_introductions = np.mean([len(essay) for e in essay])\n",
    "longest_introduction = essay[np.argmax([len(essay) for e in essay])]\n",
    "males_write_more = np.mean([len(essay) for e in essay[sex == 'm']]) > np.mean([len(essay) for e in essay[sex == 'f']])\n",
    "\n",
    "print(f\"Average age: {average_age}\")\n",
    "print(f\"Minimum age: {minimum_age}\")\n",
    "print(f\"Maximum age: {maximum_age}\")\n",
    "print(f\"Number of males: {number_of_males}\")\n",
    "print(f\"Number of females: {number_of_females}\")\n",
    "print(f\"Average age of males: {average_age_males}\")\n",
    "print(f\"Average age of females: {average_age_females}\")\n",
    "print(f\"Average length of introductions: {average_length_introductions} characters\")\n",
    "print(f\"Longest introduction: {longest_introduction}\")\n",
    "print(f\"Do males write more than females? {'Yes' if males_write_more else 'No'}\")"
   ]
  },
  {
   "cell_type": "markdown",
   "metadata": {},
   "source": [
    "## Exercise 2"
   ]
  },
  {
   "cell_type": "markdown",
   "metadata": {},
   "source": [
    "### 2.1\n",
    "Write a function `primeNumbers(N)` that takes as an (optional) input argument an integer `N` (default value `N=1000`) and returns an array with all prime numbers less than or equal to `N` (neither 0 nor 1 should be considered)."
   ]
  },
  {
   "cell_type": "code",
   "execution_count": 19,
   "metadata": {},
   "outputs": [
    {
     "name": "stdout",
     "output_type": "stream",
     "text": [
      "[  2   3   5   7  11  13  17  19  23  29  31  37  41  43  47  53  59  61\n",
      "  67  71  73  79  83  89  97 101 103 107 109 113 127 131 137 139 149 151\n",
      " 157 163 167 173 179 181 191 193 197 199 211 223 227 229 233 239 241 251\n",
      " 257 263 269 271 277 281 283 293 307 311 313 317 331 337 347 349 353 359\n",
      " 367 373 379 383 389 397 401 409 419 421 431 433 439 443 449 457 461 463\n",
      " 467 479 487 491 499 503 509 521 523 541 547 557 563 569 571 577 587 593\n",
      " 599 601 607 613 617 619 631 641 643 647 653 659 661 673 677 683 691 701\n",
      " 709 719 727 733 739 743 751 757 761 769 773 787 797 809 811 821 823 827\n",
      " 829 839 853 857 859 863 877 881 883 887 907 911 919 929 937 941 947 953\n",
      " 967 971 977 983 991 997]\n"
     ]
    }
   ],
   "source": [
    "# Solution 2.1\n",
    "def primeNumbers(N=1000):\n",
    "    primes = []\n",
    "    for num in range(2, N + 1):\n",
    "        is_prime = True\n",
    "        for i in range(2, int(np.sqrt(num)) + 1):\n",
    "            if num % i == 0:\n",
    "                is_prime = False\n",
    "                break\n",
    "        if is_prime:\n",
    "            primes.append(num)\n",
    "    return np.array(primes)\n",
    "\n",
    "print(primeNumbers())"
   ]
  },
  {
   "cell_type": "markdown",
   "metadata": {},
   "source": [
    "### 2.2\n",
    "Write a function `createMyDictionary(N)` that takes as an (optional) input argument an integer `N` (default value `N=1000`) and returns a dictionary with two elements. The first element has the key \"middle\", associated with an array of all prime numbers between $\\frac{1}{4}N$ e $\\frac{3}{4}N$ (inclusive). The second element has the key \"extremes\" and contains the remaining prime numbers less than $N$. Hint: Use the previously created function `primeNumbers(N)`."
   ]
  },
  {
   "cell_type": "code",
   "execution_count": 20,
   "metadata": {},
   "outputs": [
    {
     "name": "stdout",
     "output_type": "stream",
     "text": [
      "array1: [0 1 2 3 4 5 6 7 8 9]\n",
      "mask1:  [False False False  True  True  True  True  True False False]\n",
      "mask2:  [False  True  True]\n"
     ]
    }
   ],
   "source": [
    "# Hint\n",
    "\n",
    "# Remember that the logical AND (or OR) between 2 Boolean variables (or Boolean arrays)\n",
    "# is performed in Python using the operator `&` (or `|` respectively)\n",
    "\n",
    "array1 = np.array(np.arange(10))\n",
    "print(f\"array1: {array1}\")\n",
    "\n",
    "mask1 = (array1 > 2) & (array1 < 8)\n",
    "print(\"mask1: \", mask1)\n",
    "\n",
    "mask2 = (array1[0:3] == 2) | (array1[0:3] == 1)\n",
    "print(\"mask2: \", mask2)"
   ]
  },
  {
   "cell_type": "code",
   "execution_count": 21,
   "metadata": {},
   "outputs": [
    {
     "name": "stdout",
     "output_type": "stream",
     "text": [
      "{'prime_numbers': array([  2,   3,   5,   7,  11,  13,  17,  19,  23,  29,  31,  37,  41,\n",
      "        43,  47,  53,  59,  61,  67,  71,  73,  79,  83,  89,  97, 101,\n",
      "       103, 107, 109, 113, 127, 131, 137, 139, 149, 151, 157, 163, 167,\n",
      "       173, 179, 181, 191, 193, 197, 199, 211, 223, 227, 229, 233, 239,\n",
      "       241, 251, 257, 263, 269, 271, 277, 281, 283, 293, 307, 311, 313,\n",
      "       317, 331, 337, 347, 349, 353, 359, 367, 373, 379, 383, 389, 397,\n",
      "       401, 409, 419, 421, 431, 433, 439, 443, 449, 457, 461, 463, 467,\n",
      "       479, 487, 491, 499, 503, 509, 521, 523, 541, 547, 557, 563, 569,\n",
      "       571, 577, 587, 593, 599, 601, 607, 613, 617, 619, 631, 641, 643,\n",
      "       647, 653, 659, 661, 673, 677, 683, 691, 701, 709, 719, 727, 733,\n",
      "       739, 743, 751, 757, 761, 769, 773, 787, 797, 809, 811, 821, 823,\n",
      "       827, 829, 839, 853, 857, 859, 863, 877, 881, 883, 887, 907, 911,\n",
      "       919, 929, 937, 941, 947, 953, 967, 971, 977, 983, 991, 997]), 'prime_counts': array([15, 78, 32, 75, 34, 33, 33, 78, 30, 67])}\n"
     ]
    }
   ],
   "source": [
    "# Solution 2.2\n",
    "def createMyDictionary(N=1000):\n",
    "    primes = primeNumbers(N)\n",
    "    prime_counts = [0] * 10\n",
    "    for prime in primes:\n",
    "        for digit in str(prime):\n",
    "            prime_counts[int(digit)] += 1\n",
    "    return {\n",
    "        'prime_numbers': primes,\n",
    "        'prime_counts': np.array(prime_counts)\n",
    "    }\n",
    "\n",
    "print(createMyDictionary())"
   ]
  }
 ],
 "metadata": {
  "kernelspec": {
   "display_name": "Python 3 (ipykernel)",
   "language": "python",
   "name": "python3"
  },
  "language_info": {
   "codemirror_mode": {
    "name": "ipython",
    "version": 3
   },
   "file_extension": ".py",
   "mimetype": "text/x-python",
   "name": "python",
   "nbconvert_exporter": "python",
   "pygments_lexer": "ipython3",
   "version": "3.12.9"
  },
  "widgets": {
   "application/vnd.jupyter.widget-state+json": {
    "state": {},
    "version_major": 2,
    "version_minor": 0
   }
  }
 },
 "nbformat": 4,
 "nbformat_minor": 4
}
