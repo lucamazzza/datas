{
 "cells": [
  {
   "cell_type": "markdown",
   "metadata": {},
   "source": [
    "# Exercise 6"
   ]
  },
  {
   "cell_type": "markdown",
   "metadata": {},
   "source": [
    "## Instructions\n",
    "The same instructions from previous exercises apply.\n",
    "\n",
    "Write the Python program in the cell below the exercise text (or create a new one). Always print the final result to the screen to verify the correctness of the exercise. Sometimes we recall important concepts in a code cell below the exercise text; try running it and, if necessary, modify it to ensure you've understood the essentials.\n",
    "\n",
    "## Submission\n",
    "The same rules from previous exercises apply.\n",
    "\n",
    "It is mandatory to **submit the solution for all exercises** (except those marked as optional) **by the deadline**, as specified in the appropriate assignment on iCorsi. To submit:\n",
    "- Run the entire notebook from the start (`Kernel -> Restart & Run All`), and check that the solutions are as expected;\n",
    "- Export the notebook in HTML format (`File -> Download as...`) and submit the resulting file.\n",
    "\n",
    "If you couldn't complete one or more exercises, describe the issue encountered and **still submit the file with the rest of the solutions**.\n"
   ]
  },
  {
   "cell_type": "markdown",
   "metadata": {},
   "source": [
    "## IMDb Dataset\n",
    "\n",
    "Read the documentation related to the dataset at [this link](https://www.kaggle.com/stefanoleone992/imdb-extensive-dataset), and download it. If you don't want to create a Kaggle account, download the zip file from [this link](https://drive.switch.ch/index.php/s/ios1uvNy81xxmyV) on the instructor's Switchdrive (do not share it, it is for course students only). Extract the folder and rename it `data`.\n",
    "\n",
    "In this exercise, we will work with the *movies dataset*, which is the file `IMDb movies.csv`.\n"
   ]
  },
  {
   "cell_type": "markdown",
   "metadata": {},
   "source": [
    "The current directory, relative to which we need to specify the file's location, is this"
   ]
  },
  {
   "cell_type": "code",
   "execution_count": 6,
   "metadata": {},
   "outputs": [
    {
     "data": {
      "text/plain": [
       "'/Users/lucamazza/School/datascience'"
      ]
     },
     "execution_count": 6,
     "metadata": {},
     "output_type": "execute_result"
    }
   ],
   "source": [
    "pwd"
   ]
  },
  {
   "cell_type": "markdown",
   "metadata": {},
   "source": [
    "## Exercise 0\n",
    "\n",
    "### 0.0\n",
    "Import the dataset with pandas into a dataframe, which we will call `df` from now on.\n"
   ]
  },
  {
   "cell_type": "code",
   "execution_count": 7,
   "metadata": {},
   "outputs": [],
   "source": [
    "import pandas as pd\n",
    "import numpy as np\n",
    "df = pd.read_csv(\"data/IMDb movies/IMDb movies.csv\")"
   ]
  },
  {
   "cell_type": "markdown",
   "metadata": {},
   "source": [
    "### 0.1\n",
    "Display the first 3 rows (`df.head(...)`), the last 3 (`df.tail(...)`), and 3 random rows (`df.sample(...)`).\n",
    "\n",
    "Note: To set the maximum number of columns to display, use the command `pd.set_option('display.max_columns', N)` where `N` is the maximum number of columns you want to display.\n"
   ]
  },
  {
   "cell_type": "code",
   "execution_count": 8,
   "metadata": {},
   "outputs": [
    {
     "data": {
      "text/html": [
       "<div>\n",
       "<style scoped>\n",
       "    .dataframe tbody tr th:only-of-type {\n",
       "        vertical-align: middle;\n",
       "    }\n",
       "\n",
       "    .dataframe tbody tr th {\n",
       "        vertical-align: top;\n",
       "    }\n",
       "\n",
       "    .dataframe thead th {\n",
       "        text-align: right;\n",
       "    }\n",
       "</style>\n",
       "<table border=\"1\" class=\"dataframe\">\n",
       "  <thead>\n",
       "    <tr style=\"text-align: right;\">\n",
       "      <th></th>\n",
       "      <th>imdb_title_id</th>\n",
       "      <th>title</th>\n",
       "      <th>original_title</th>\n",
       "      <th>year</th>\n",
       "      <th>date_published</th>\n",
       "      <th>genre</th>\n",
       "      <th>duration</th>\n",
       "      <th>country</th>\n",
       "      <th>language</th>\n",
       "      <th>director</th>\n",
       "      <th>...</th>\n",
       "      <th>actors</th>\n",
       "      <th>description</th>\n",
       "      <th>avg_vote</th>\n",
       "      <th>votes</th>\n",
       "      <th>budget</th>\n",
       "      <th>usa_gross_income</th>\n",
       "      <th>worlwide_gross_income</th>\n",
       "      <th>metascore</th>\n",
       "      <th>reviews_from_users</th>\n",
       "      <th>reviews_from_critics</th>\n",
       "    </tr>\n",
       "  </thead>\n",
       "  <tbody>\n",
       "    <tr>\n",
       "      <th>0</th>\n",
       "      <td>tt0000009</td>\n",
       "      <td>Miss Jerry</td>\n",
       "      <td>Miss Jerry</td>\n",
       "      <td>1894</td>\n",
       "      <td>1894-10-09</td>\n",
       "      <td>Romance</td>\n",
       "      <td>45</td>\n",
       "      <td>USA</td>\n",
       "      <td>NaN</td>\n",
       "      <td>Alexander Black</td>\n",
       "      <td>...</td>\n",
       "      <td>Blanche Bayliss, William Courtenay, Chauncey D...</td>\n",
       "      <td>The adventures of a female reporter in the 1890s.</td>\n",
       "      <td>5.9</td>\n",
       "      <td>154</td>\n",
       "      <td>NaN</td>\n",
       "      <td>NaN</td>\n",
       "      <td>NaN</td>\n",
       "      <td>NaN</td>\n",
       "      <td>1.0</td>\n",
       "      <td>2.0</td>\n",
       "    </tr>\n",
       "    <tr>\n",
       "      <th>1</th>\n",
       "      <td>tt0000574</td>\n",
       "      <td>The Story of the Kelly Gang</td>\n",
       "      <td>The Story of the Kelly Gang</td>\n",
       "      <td>1906</td>\n",
       "      <td>1906-12-26</td>\n",
       "      <td>Biography, Crime, Drama</td>\n",
       "      <td>70</td>\n",
       "      <td>Australia</td>\n",
       "      <td>NaN</td>\n",
       "      <td>Charles Tait</td>\n",
       "      <td>...</td>\n",
       "      <td>Elizabeth Tait, John Tait, Norman Campbell, Be...</td>\n",
       "      <td>True story of notorious Australian outlaw Ned ...</td>\n",
       "      <td>6.1</td>\n",
       "      <td>589</td>\n",
       "      <td>$ 2250</td>\n",
       "      <td>NaN</td>\n",
       "      <td>NaN</td>\n",
       "      <td>NaN</td>\n",
       "      <td>7.0</td>\n",
       "      <td>7.0</td>\n",
       "    </tr>\n",
       "    <tr>\n",
       "      <th>2</th>\n",
       "      <td>tt0001892</td>\n",
       "      <td>Den sorte drøm</td>\n",
       "      <td>Den sorte drøm</td>\n",
       "      <td>1911</td>\n",
       "      <td>1911-08-19</td>\n",
       "      <td>Drama</td>\n",
       "      <td>53</td>\n",
       "      <td>Germany, Denmark</td>\n",
       "      <td>NaN</td>\n",
       "      <td>Urban Gad</td>\n",
       "      <td>...</td>\n",
       "      <td>Asta Nielsen, Valdemar Psilander, Gunnar Helse...</td>\n",
       "      <td>Two men of high rank are both wooing the beaut...</td>\n",
       "      <td>5.8</td>\n",
       "      <td>188</td>\n",
       "      <td>NaN</td>\n",
       "      <td>NaN</td>\n",
       "      <td>NaN</td>\n",
       "      <td>NaN</td>\n",
       "      <td>5.0</td>\n",
       "      <td>2.0</td>\n",
       "    </tr>\n",
       "  </tbody>\n",
       "</table>\n",
       "<p>3 rows × 22 columns</p>\n",
       "</div>"
      ],
      "text/plain": [
       "  imdb_title_id                        title               original_title  \\\n",
       "0     tt0000009                   Miss Jerry                   Miss Jerry   \n",
       "1     tt0000574  The Story of the Kelly Gang  The Story of the Kelly Gang   \n",
       "2     tt0001892               Den sorte drøm               Den sorte drøm   \n",
       "\n",
       "   year date_published                    genre  duration           country  \\\n",
       "0  1894     1894-10-09                  Romance        45               USA   \n",
       "1  1906     1906-12-26  Biography, Crime, Drama        70         Australia   \n",
       "2  1911     1911-08-19                    Drama        53  Germany, Denmark   \n",
       "\n",
       "  language         director  ...  \\\n",
       "0      NaN  Alexander Black  ...   \n",
       "1      NaN     Charles Tait  ...   \n",
       "2      NaN        Urban Gad  ...   \n",
       "\n",
       "                                              actors  \\\n",
       "0  Blanche Bayliss, William Courtenay, Chauncey D...   \n",
       "1  Elizabeth Tait, John Tait, Norman Campbell, Be...   \n",
       "2  Asta Nielsen, Valdemar Psilander, Gunnar Helse...   \n",
       "\n",
       "                                         description avg_vote votes  budget  \\\n",
       "0  The adventures of a female reporter in the 1890s.      5.9   154     NaN   \n",
       "1  True story of notorious Australian outlaw Ned ...      6.1   589  $ 2250   \n",
       "2  Two men of high rank are both wooing the beaut...      5.8   188     NaN   \n",
       "\n",
       "   usa_gross_income worlwide_gross_income metascore reviews_from_users  \\\n",
       "0               NaN                   NaN       NaN                1.0   \n",
       "1               NaN                   NaN       NaN                7.0   \n",
       "2               NaN                   NaN       NaN                5.0   \n",
       "\n",
       "   reviews_from_critics  \n",
       "0                   2.0  \n",
       "1                   7.0  \n",
       "2                   2.0  \n",
       "\n",
       "[3 rows x 22 columns]"
      ]
     },
     "execution_count": 8,
     "metadata": {},
     "output_type": "execute_result"
    }
   ],
   "source": [
    "# Solution\n",
    "df.head(3)"
   ]
  },
  {
   "cell_type": "code",
   "execution_count": 9,
   "metadata": {},
   "outputs": [
    {
     "data": {
      "text/html": [
       "<div>\n",
       "<style scoped>\n",
       "    .dataframe tbody tr th:only-of-type {\n",
       "        vertical-align: middle;\n",
       "    }\n",
       "\n",
       "    .dataframe tbody tr th {\n",
       "        vertical-align: top;\n",
       "    }\n",
       "\n",
       "    .dataframe thead th {\n",
       "        text-align: right;\n",
       "    }\n",
       "</style>\n",
       "<table border=\"1\" class=\"dataframe\">\n",
       "  <thead>\n",
       "    <tr style=\"text-align: right;\">\n",
       "      <th></th>\n",
       "      <th>imdb_title_id</th>\n",
       "      <th>title</th>\n",
       "      <th>original_title</th>\n",
       "      <th>year</th>\n",
       "      <th>date_published</th>\n",
       "      <th>genre</th>\n",
       "      <th>duration</th>\n",
       "      <th>country</th>\n",
       "      <th>language</th>\n",
       "      <th>director</th>\n",
       "      <th>...</th>\n",
       "      <th>actors</th>\n",
       "      <th>description</th>\n",
       "      <th>avg_vote</th>\n",
       "      <th>votes</th>\n",
       "      <th>budget</th>\n",
       "      <th>usa_gross_income</th>\n",
       "      <th>worlwide_gross_income</th>\n",
       "      <th>metascore</th>\n",
       "      <th>reviews_from_users</th>\n",
       "      <th>reviews_from_critics</th>\n",
       "    </tr>\n",
       "  </thead>\n",
       "  <tbody>\n",
       "    <tr>\n",
       "      <th>85851</th>\n",
       "      <td>tt9911774</td>\n",
       "      <td>Padmavyuhathile Abhimanyu</td>\n",
       "      <td>Padmavyuhathile Abhimanyu</td>\n",
       "      <td>2019</td>\n",
       "      <td>2019-03-08</td>\n",
       "      <td>Drama</td>\n",
       "      <td>130</td>\n",
       "      <td>India</td>\n",
       "      <td>Malayalam</td>\n",
       "      <td>Vineesh Aaradya</td>\n",
       "      <td>...</td>\n",
       "      <td>Anoop Chandran, Indrans, Sona Nair, Simon Brit...</td>\n",
       "      <td>NaN</td>\n",
       "      <td>7.9</td>\n",
       "      <td>265</td>\n",
       "      <td>NaN</td>\n",
       "      <td>NaN</td>\n",
       "      <td>NaN</td>\n",
       "      <td>NaN</td>\n",
       "      <td>NaN</td>\n",
       "      <td>NaN</td>\n",
       "    </tr>\n",
       "    <tr>\n",
       "      <th>85852</th>\n",
       "      <td>tt9914286</td>\n",
       "      <td>Sokagin Çocuklari</td>\n",
       "      <td>Sokagin Çocuklari</td>\n",
       "      <td>2019</td>\n",
       "      <td>2019-03-15</td>\n",
       "      <td>Drama, Family</td>\n",
       "      <td>98</td>\n",
       "      <td>Turkey</td>\n",
       "      <td>Turkish</td>\n",
       "      <td>Ahmet Faik Akinci</td>\n",
       "      <td>...</td>\n",
       "      <td>Ahmet Faik Akinci, Belma Mamati, Metin Keçeci,...</td>\n",
       "      <td>NaN</td>\n",
       "      <td>6.4</td>\n",
       "      <td>194</td>\n",
       "      <td>NaN</td>\n",
       "      <td>NaN</td>\n",
       "      <td>$ 2833</td>\n",
       "      <td>NaN</td>\n",
       "      <td>NaN</td>\n",
       "      <td>NaN</td>\n",
       "    </tr>\n",
       "    <tr>\n",
       "      <th>85853</th>\n",
       "      <td>tt9914942</td>\n",
       "      <td>La vida sense la Sara Amat</td>\n",
       "      <td>La vida sense la Sara Amat</td>\n",
       "      <td>2019</td>\n",
       "      <td>2020-02-05</td>\n",
       "      <td>Drama</td>\n",
       "      <td>74</td>\n",
       "      <td>Spain</td>\n",
       "      <td>Catalan</td>\n",
       "      <td>Laura Jou</td>\n",
       "      <td>...</td>\n",
       "      <td>Maria Morera Colomer, Biel Rossell Pelfort, Is...</td>\n",
       "      <td>Pep, a 13-year-old boy, is in love with a girl...</td>\n",
       "      <td>6.7</td>\n",
       "      <td>102</td>\n",
       "      <td>NaN</td>\n",
       "      <td>NaN</td>\n",
       "      <td>$ 59794</td>\n",
       "      <td>NaN</td>\n",
       "      <td>NaN</td>\n",
       "      <td>2.0</td>\n",
       "    </tr>\n",
       "  </tbody>\n",
       "</table>\n",
       "<p>3 rows × 22 columns</p>\n",
       "</div>"
      ],
      "text/plain": [
       "      imdb_title_id                       title              original_title  \\\n",
       "85851     tt9911774   Padmavyuhathile Abhimanyu   Padmavyuhathile Abhimanyu   \n",
       "85852     tt9914286           Sokagin Çocuklari           Sokagin Çocuklari   \n",
       "85853     tt9914942  La vida sense la Sara Amat  La vida sense la Sara Amat   \n",
       "\n",
       "       year date_published          genre  duration country   language  \\\n",
       "85851  2019     2019-03-08          Drama       130   India  Malayalam   \n",
       "85852  2019     2019-03-15  Drama, Family        98  Turkey    Turkish   \n",
       "85853  2019     2020-02-05          Drama        74   Spain    Catalan   \n",
       "\n",
       "                director  ...  \\\n",
       "85851    Vineesh Aaradya  ...   \n",
       "85852  Ahmet Faik Akinci  ...   \n",
       "85853          Laura Jou  ...   \n",
       "\n",
       "                                                  actors  \\\n",
       "85851  Anoop Chandran, Indrans, Sona Nair, Simon Brit...   \n",
       "85852  Ahmet Faik Akinci, Belma Mamati, Metin Keçeci,...   \n",
       "85853  Maria Morera Colomer, Biel Rossell Pelfort, Is...   \n",
       "\n",
       "                                             description avg_vote votes  \\\n",
       "85851                                                NaN      7.9   265   \n",
       "85852                                                NaN      6.4   194   \n",
       "85853  Pep, a 13-year-old boy, is in love with a girl...      6.7   102   \n",
       "\n",
       "       budget  usa_gross_income worlwide_gross_income metascore  \\\n",
       "85851     NaN               NaN                   NaN       NaN   \n",
       "85852     NaN               NaN                $ 2833       NaN   \n",
       "85853     NaN               NaN               $ 59794       NaN   \n",
       "\n",
       "      reviews_from_users  reviews_from_critics  \n",
       "85851                NaN                   NaN  \n",
       "85852                NaN                   NaN  \n",
       "85853                NaN                   2.0  \n",
       "\n",
       "[3 rows x 22 columns]"
      ]
     },
     "execution_count": 9,
     "metadata": {},
     "output_type": "execute_result"
    }
   ],
   "source": [
    "df.tail(3)"
   ]
  },
  {
   "cell_type": "code",
   "execution_count": 10,
   "metadata": {},
   "outputs": [
    {
     "data": {
      "text/html": [
       "<div>\n",
       "<style scoped>\n",
       "    .dataframe tbody tr th:only-of-type {\n",
       "        vertical-align: middle;\n",
       "    }\n",
       "\n",
       "    .dataframe tbody tr th {\n",
       "        vertical-align: top;\n",
       "    }\n",
       "\n",
       "    .dataframe thead th {\n",
       "        text-align: right;\n",
       "    }\n",
       "</style>\n",
       "<table border=\"1\" class=\"dataframe\">\n",
       "  <thead>\n",
       "    <tr style=\"text-align: right;\">\n",
       "      <th></th>\n",
       "      <th>imdb_title_id</th>\n",
       "      <th>title</th>\n",
       "      <th>original_title</th>\n",
       "      <th>year</th>\n",
       "      <th>date_published</th>\n",
       "      <th>genre</th>\n",
       "      <th>duration</th>\n",
       "      <th>country</th>\n",
       "      <th>language</th>\n",
       "      <th>director</th>\n",
       "      <th>...</th>\n",
       "      <th>actors</th>\n",
       "      <th>description</th>\n",
       "      <th>avg_vote</th>\n",
       "      <th>votes</th>\n",
       "      <th>budget</th>\n",
       "      <th>usa_gross_income</th>\n",
       "      <th>worlwide_gross_income</th>\n",
       "      <th>metascore</th>\n",
       "      <th>reviews_from_users</th>\n",
       "      <th>reviews_from_critics</th>\n",
       "    </tr>\n",
       "  </thead>\n",
       "  <tbody>\n",
       "    <tr>\n",
       "      <th>57861</th>\n",
       "      <td>tt1414827</td>\n",
       "      <td>Insutanto numa</td>\n",
       "      <td>Insutanto numa</td>\n",
       "      <td>2009</td>\n",
       "      <td>2009-05-23</td>\n",
       "      <td>Comedy</td>\n",
       "      <td>120</td>\n",
       "      <td>Japan</td>\n",
       "      <td>Japanese</td>\n",
       "      <td>Satoshi Miki</td>\n",
       "      <td>...</td>\n",
       "      <td>Kumiko Asô, Morio Kazama, Ryô Kase, Keiko Mats...</td>\n",
       "      <td>A quirky young woman who loves antiques embark...</td>\n",
       "      <td>6.9</td>\n",
       "      <td>588</td>\n",
       "      <td>NaN</td>\n",
       "      <td>NaN</td>\n",
       "      <td>NaN</td>\n",
       "      <td>NaN</td>\n",
       "      <td>5.0</td>\n",
       "      <td>16.0</td>\n",
       "    </tr>\n",
       "    <tr>\n",
       "      <th>82540</th>\n",
       "      <td>tt7428476</td>\n",
       "      <td>El increíble finde menguante</td>\n",
       "      <td>El increíble finde menguante</td>\n",
       "      <td>2019</td>\n",
       "      <td>2019-05-10</td>\n",
       "      <td>Drama</td>\n",
       "      <td>93</td>\n",
       "      <td>Spain</td>\n",
       "      <td>Spanish</td>\n",
       "      <td>Jon Mikel Caballero</td>\n",
       "      <td>...</td>\n",
       "      <td>Iria del Río, Adam Quintero, Nadia de Santiago...</td>\n",
       "      <td>It's not a loop, it's a countdown: Alba is tra...</td>\n",
       "      <td>6.2</td>\n",
       "      <td>234</td>\n",
       "      <td>NaN</td>\n",
       "      <td>NaN</td>\n",
       "      <td>NaN</td>\n",
       "      <td>NaN</td>\n",
       "      <td>NaN</td>\n",
       "      <td>13.0</td>\n",
       "    </tr>\n",
       "    <tr>\n",
       "      <th>65123</th>\n",
       "      <td>tt2180443</td>\n",
       "      <td>Kureyon Shinchan: Arashi o Yobu: Appare! Sengo...</td>\n",
       "      <td>Kureyon Shinchan: Arashi o Yobu: Appare! Sengo...</td>\n",
       "      <td>2002</td>\n",
       "      <td>2002-04-20</td>\n",
       "      <td>Animation</td>\n",
       "      <td>95</td>\n",
       "      <td>Japan</td>\n",
       "      <td>Japanese</td>\n",
       "      <td>Keiichi Hara</td>\n",
       "      <td>...</td>\n",
       "      <td>Keiji Fujiwara, Satomi Kôrogi, Miki Narahashi,...</td>\n",
       "      <td>NaN</td>\n",
       "      <td>7.0</td>\n",
       "      <td>212</td>\n",
       "      <td>NaN</td>\n",
       "      <td>NaN</td>\n",
       "      <td>NaN</td>\n",
       "      <td>NaN</td>\n",
       "      <td>1.0</td>\n",
       "      <td>NaN</td>\n",
       "    </tr>\n",
       "  </tbody>\n",
       "</table>\n",
       "<p>3 rows × 22 columns</p>\n",
       "</div>"
      ],
      "text/plain": [
       "      imdb_title_id                                              title  \\\n",
       "57861     tt1414827                                     Insutanto numa   \n",
       "82540     tt7428476                       El increíble finde menguante   \n",
       "65123     tt2180443  Kureyon Shinchan: Arashi o Yobu: Appare! Sengo...   \n",
       "\n",
       "                                          original_title  year date_published  \\\n",
       "57861                                     Insutanto numa  2009     2009-05-23   \n",
       "82540                       El increíble finde menguante  2019     2019-05-10   \n",
       "65123  Kureyon Shinchan: Arashi o Yobu: Appare! Sengo...  2002     2002-04-20   \n",
       "\n",
       "           genre  duration country  language             director  ...  \\\n",
       "57861     Comedy       120   Japan  Japanese         Satoshi Miki  ...   \n",
       "82540      Drama        93   Spain   Spanish  Jon Mikel Caballero  ...   \n",
       "65123  Animation        95   Japan  Japanese         Keiichi Hara  ...   \n",
       "\n",
       "                                                  actors  \\\n",
       "57861  Kumiko Asô, Morio Kazama, Ryô Kase, Keiko Mats...   \n",
       "82540  Iria del Río, Adam Quintero, Nadia de Santiago...   \n",
       "65123  Keiji Fujiwara, Satomi Kôrogi, Miki Narahashi,...   \n",
       "\n",
       "                                             description avg_vote votes  \\\n",
       "57861  A quirky young woman who loves antiques embark...      6.9   588   \n",
       "82540  It's not a loop, it's a countdown: Alba is tra...      6.2   234   \n",
       "65123                                                NaN      7.0   212   \n",
       "\n",
       "       budget  usa_gross_income worlwide_gross_income metascore  \\\n",
       "57861     NaN               NaN                   NaN       NaN   \n",
       "82540     NaN               NaN                   NaN       NaN   \n",
       "65123     NaN               NaN                   NaN       NaN   \n",
       "\n",
       "      reviews_from_users  reviews_from_critics  \n",
       "57861                5.0                  16.0  \n",
       "82540                NaN                  13.0  \n",
       "65123                1.0                   NaN  \n",
       "\n",
       "[3 rows x 22 columns]"
      ]
     },
     "execution_count": 10,
     "metadata": {},
     "output_type": "execute_result"
    }
   ],
   "source": [
    "df.sample(3)"
   ]
  },
  {
   "cell_type": "markdown",
   "metadata": {},
   "source": [
    "### 0.2\n",
    "Print the names of the dataset's columns.\n",
    "\n",
    "Referring to the dataset description, briefly describe for each column:\n",
    "- The meaning of the column\n",
    "- The data type (string? integer?)\n",
    "- Can the column have null values? If so, how are they represented?\n"
   ]
  },
  {
   "cell_type": "code",
   "execution_count": 11,
   "metadata": {},
   "outputs": [
    {
     "data": {
      "text/plain": [
       "Index(['imdb_title_id', 'title', 'original_title', 'year', 'date_published',\n",
       "       'genre', 'duration', 'country', 'language', 'director', 'writer',\n",
       "       'production_company', 'actors', 'description', 'avg_vote', 'votes',\n",
       "       'budget', 'usa_gross_income', 'worlwide_gross_income', 'metascore',\n",
       "       'reviews_from_users', 'reviews_from_critics'],\n",
       "      dtype='object')"
      ]
     },
     "execution_count": 11,
     "metadata": {},
     "output_type": "execute_result"
    }
   ],
   "source": [
    "# Solution\n",
    "df.columns"
   ]
  },
  {
   "cell_type": "markdown",
   "metadata": {},
   "source": [
    "## Exercise 1 (easy questions)\n",
    "Write some code to answer the following questions.\n",
    "\n",
    "- What is the average duration of the movies in the dataset?\n",
    "- Display the title of the longest movie and the title of the shortest movie.\n",
    "- Display the longest title (quite easy), and the shortest title (a bit less easy: what if there's more than one?).\n",
    "- Display the title of a random movie that was released in the year you were born. You can use the `sample` method, as seen above.\n",
    "- Who is your favorite director? Store their first and last name in a variable (if you want, you can use the `input(...)` function to ask the user), and print how many movies they directed as the sole director.\n",
    "- Print the list of their movies, separated by semicolons. You can use the [str.join](https://docs.python.org/3/library/stdtypes.html#str.join) method.\n",
    "- How many movies were produced only in Switzerland?\n",
    "- What is the average duration of movies produced only in Switzerland?\n",
    "- List their titles in a string, separated by line breaks. Have you seen any of them?\n",
    "- List the directors of movies produced only in Switzerland.\n",
    "- Were more movies released before 2000 or after 2000? (Note: use the `pd.to_numeric(...)` function to convert the \"year\" column to a numeric type. Read the documentation carefully to understand how to handle possible errors in parsing the strings).\n"
   ]
  },
  {
   "cell_type": "code",
   "execution_count": 14,
   "metadata": {},
   "outputs": [
    {
     "name": "stdout",
     "output_type": "stream",
     "text": [
      "Average duration: 100.35132900039602\n"
     ]
    }
   ],
   "source": [
    "# Solution\n",
    "print(\"Average duration:\", df['duration'].mean())"
   ]
  },
  {
   "cell_type": "code",
   "execution_count": 15,
   "metadata": {},
   "outputs": [
    {
     "name": "stdout",
     "output_type": "stream",
     "text": [
      "Longest movie: La flor\n"
     ]
    }
   ],
   "source": [
    "print(\"Longest movie:\", df[df['duration'] == df['duration'].max()]['title'].iloc[0])"
   ]
  },
  {
   "cell_type": "code",
   "execution_count": 16,
   "metadata": {},
   "outputs": [
    {
     "name": "stdout",
     "output_type": "stream",
     "text": [
      "Longest title: Night of the Day of the Dawn of the Son of the Bride of the Return of the Revenge of the Terror of the Attack of the Evil, Mutant, Hellbound, Flesh-Eating Subhumanoid Zombified Living Dead, Part 3\n"
     ]
    }
   ],
   "source": [
    "print(\"Longest title:\", df[df['title'].str.len() == df['title'].str.len().max()]['title'].iloc[0])"
   ]
  },
  {
   "cell_type": "code",
   "execution_count": 17,
   "metadata": {},
   "outputs": [
    {
     "name": "stdout",
     "output_type": "stream",
     "text": [
      "Shortest title: W\n"
     ]
    }
   ],
   "source": [
    "print(\"Shortest title:\", df[df['title'].str.len() == df['title'].str.len().min()]['title'].sample().iloc[0])"
   ]
  },
  {
   "cell_type": "code",
   "execution_count": 18,
   "metadata": {},
   "outputs": [
    {
     "name": "stdout",
     "output_type": "stream",
     "text": [
      "Random movie from 2002: Boat Trip\n"
     ]
    }
   ],
   "source": [
    "print(\"Random movie from 2002:\", df[df['year'] == 2002]['title'].sample().iloc[0])"
   ]
  },
  {
   "cell_type": "code",
   "execution_count": 19,
   "metadata": {},
   "outputs": [
    {
     "name": "stdin",
     "output_type": "stream",
     "text": [
      "Favorite Director:  Quentin Tarantino\n"
     ]
    },
    {
     "name": "stdout",
     "output_type": "stream",
     "text": [
      "12 films by Quentin Tarantino\n",
      "Le iene;Pulp Fiction;Jackie Brown;Kill Bill - Volume 1;My Best Friend's Birthday;Bastardi senza gloria;Kill Bill - Volume 2;Grindhouse - A prova di morte;Django Unchained;The Hateful Eight;Kill Bill: The Whole Bloody Affair;C'era una volta a... Hollywood\n"
     ]
    }
   ],
   "source": [
    "favorite_director = input(\"Favorite Director: \")\n",
    "print(len(df[df['director'] == favorite_director]), \"films by\", favorite_director, )\n",
    "print(';'.join(df[df['director'] == favorite_director]['title']))"
   ]
  },
  {
   "cell_type": "code",
   "execution_count": 20,
   "metadata": {},
   "outputs": [
    {
     "name": "stdout",
     "output_type": "stream",
     "text": [
      "87 films were produced in Switzerland\n"
     ]
    }
   ],
   "source": [
    "print(len(df[df['country'] == \"Switzerland\"]), \"films were produced in Switzerland\")"
   ]
  },
  {
   "cell_type": "code",
   "execution_count": 21,
   "metadata": {},
   "outputs": [
    {
     "name": "stdout",
     "output_type": "stream",
     "text": [
      "Average Swiss Film Duration: 94.66666666666667\n"
     ]
    }
   ],
   "source": [
    "print(\"Average Swiss Film Duration:\", df[df['country'] == \"Switzerland\"]['duration'].mean())"
   ]
  },
  {
   "cell_type": "code",
   "execution_count": 22,
   "metadata": {},
   "outputs": [
    {
     "name": "stdout",
     "output_type": "stream",
     "text": [
      "Wachtmeister Studer\n",
      "L'ultima speranza\n",
      "Quattro in una jeep\n",
      "Heidi\n",
      "Uli, der Knecht\n",
      "Heidi torna a casa\n",
      "Uli, der Pächter\n",
      "Bäckerei Zürrer\n",
      "Charles mort ou vif\n",
      "The Devil in Miss Jonas\n",
      "Downtown - Die nackten Puppen der Unterwelt\n",
      "Penitenziario femminile per reati sessuali\n",
      "Frauen im Liebeslager\n",
      "Mosquito der Schänder\n",
      "Frenesie erotiche di una ninfomane\n",
      "Porno shock\n",
      "I fabbricasvizzeri\n",
      "Folli piaceri delle porno prigioniere\n",
      "Die Nichten der Frau Oberst\n",
      "Sechs Schwedinnen von der Tankstelle\n",
      "Il falò\n",
      "Broken Silence\n",
      "Katzendiebe\n",
      "Nacht der Gaukler\n",
      "Frauen für Zellenblock 9\n",
      "Exklusiv\n",
      "Die Sklavinnen\n",
      "Insaziabili notti di una ninfomane\n",
      "Komiker\n",
      "HD-Soldat Läppli\n",
      "Heidi\n",
      "Hinter den sieben Gleisen\n",
      "Neutre\n",
      "Utopia Blues\n",
      "Stille Liebe\n",
      "Ernstfall in Havanna\n",
      "Dällebach Kari\n",
      "Achtung, fertig, Charlie!\n",
      "Cargo\n",
      "Sternenberg\n",
      "Hildes Reise\n",
      "Strähl\n",
      "The Ring Thing\n",
      "Absolut\n",
      "Grounding - Die letzten Tage der Swissair\n",
      "Nachbeben\n",
      "Jeune homme\n",
      "Vitus\n",
      "Mein Name ist Eugen\n",
      "Handyman\n",
      "Breakout\n",
      "Die Herbstzeitlosen\n",
      "Comme des voleurs (à l'est)\n",
      "I Was a Swiss Banker\n",
      "Der Freund\n",
      "Un autre homme\n",
      "Sennentuntschi\n",
      "Coeur animal\n",
      "Die Standesbeamtin\n",
      "Giulias Verschwinden\n",
      "Stationspiraten\n",
      "Der Sandmann\n",
      "Clara e il segreto degli orsi\n",
      "Trapped\n",
      "Chimères\n",
      "Das Missen Massaker\n",
      "Rosie\n",
      "Pause\n",
      "Até Ver a Luz\n",
      "Der Goalie bin ig\n",
      "Pronti, partenza, march!\n",
      "Der Kreis\n",
      "Unter der Haut\n",
      "Amateur Teens\n",
      "Nichts passiert\n",
      "Chrieg\n",
      "Una campana per Ursli\n",
      "Non tutte le sciagure vengono dal cielo\n",
      "Goliath\n",
      "Contro l'ordine divino\n",
      "Mr. Moll e la fabbrica di cioccolato\n",
      "Der Läufer\n",
      "Streaker\n",
      "Mario\n",
      "Dene wos guet geit\n",
      "Cronofobia\n",
      "Platzspitzbaby\n"
     ]
    }
   ],
   "source": [
    "print('\\n'.join(df[df['country'] == \"Switzerland\"]['title']))"
   ]
  },
  {
   "cell_type": "code",
   "execution_count": 23,
   "metadata": {},
   "outputs": [
    {
     "name": "stdout",
     "output_type": "stream",
     "text": [
      "Leopold Lindtberg\n",
      "Leopold Lindtberg, Elizabeth Montagu\n",
      "Luigi Comencini\n",
      "Franz Schnyder\n",
      "Kurt Früh\n",
      "Alain Tanner\n",
      "Erwin C. Dietrich\n",
      "Jesús Franco\n",
      "Marijan Vajda\n",
      "Rolf Lyssy\n",
      "Fredi M. Murer\n",
      "Wolfgang Panzer\n",
      "Markus Imboden\n",
      "Michael Steiner, Pascal Walder\n",
      "Florian Froschmayer\n",
      "Alfred Rasser\n",
      "Xavier Ruiz\n",
      "Stefan Haupt\n",
      "Christoph Schaub\n",
      "Sabine Boss\n",
      "Mike Eschmann\n",
      "Ivan Engler, Ralph Etter\n",
      "Christof Vorster\n",
      "Manuel Flurin Hendry\n",
      "Marc Schippert\n",
      "Romed Wyder\n",
      "Michael Steiner\n",
      "Stina Werenfels\n",
      "Jürg Ebe\n",
      "Bettina Oberli\n",
      "Lionel Baier\n",
      "Thomas Imbach\n",
      "Micha Lewinsky\n",
      "Séverine Cornamusaz\n",
      "Mike Schaerer\n",
      "Peter Luisi\n",
      "Tobias Ineichen\n",
      "Philippe Weibel\n",
      "Olivier Beguin\n",
      "Marcel Gisler\n",
      "Mathieu Urfer\n",
      "Basil da Cunha\n",
      "Oliver Rihs\n",
      "Claudia Lorenz\n",
      "Niklaus Hilber\n",
      "Simon Jaquemet\n",
      "Xavier Koller\n",
      "Dominik Locher\n",
      "Petra Biondina Volpe\n",
      "Hannes Baumgartner\n",
      "Cyril Schäublin\n",
      "Francesco Rizzi\n",
      "Pierre Monnard\n"
     ]
    }
   ],
   "source": [
    "print('\\n'.join(df[df['country'] == \"Switzerland\"]['director'].unique()))"
   ]
  },
  {
   "cell_type": "markdown",
   "metadata": {},
   "source": [
    "## Exercise 2\n",
    "- Ask the user to enter a word. For each movie where the title or description contains that word, display the full title and description.\n",
    "- List the 20 most common words in movie titles. It will probably make sense to limit this to words longer than a certain number of characters.\n",
    "- Choose a genre (e.g., Horror). Analyze the movie descriptions and print the 20 words that occur most frequently.\n"
   ]
  },
  {
   "cell_type": "code",
   "execution_count": 24,
   "metadata": {},
   "outputs": [
    {
     "name": "stdin",
     "output_type": "stream",
     "text": [
      "Enter a word to search in titles and descriptions:  ciao\n"
     ]
    },
    {
     "data": {
      "text/html": [
       "<div>\n",
       "<style scoped>\n",
       "    .dataframe tbody tr th:only-of-type {\n",
       "        vertical-align: middle;\n",
       "    }\n",
       "\n",
       "    .dataframe tbody tr th {\n",
       "        vertical-align: top;\n",
       "    }\n",
       "\n",
       "    .dataframe thead th {\n",
       "        text-align: right;\n",
       "    }\n",
       "</style>\n",
       "<table border=\"1\" class=\"dataframe\">\n",
       "  <thead>\n",
       "    <tr style=\"text-align: right;\">\n",
       "      <th></th>\n",
       "      <th>title</th>\n",
       "      <th>description</th>\n",
       "    </tr>\n",
       "  </thead>\n",
       "  <tbody>\n",
       "    <tr>\n",
       "      <th>3873</th>\n",
       "      <td>Ciao amici!</td>\n",
       "      <td>Laurel and Hardy join the army. They are hardl...</td>\n",
       "    </tr>\n",
       "    <tr>\n",
       "      <th>11856</th>\n",
       "      <td>Ciao, Charlie</td>\n",
       "      <td>Womanizing Charlie is shot by an angry husband...</td>\n",
       "    </tr>\n",
       "    <tr>\n",
       "      <th>12480</th>\n",
       "      <td>Ciao Pussycat</td>\n",
       "      <td>A playboy who refuses to give up his hedonisti...</td>\n",
       "    </tr>\n",
       "    <tr>\n",
       "      <th>13516</th>\n",
       "      <td>Ciao America</td>\n",
       "      <td>An offbeat, episodic film about three friends,...</td>\n",
       "    </tr>\n",
       "    <tr>\n",
       "      <th>15424</th>\n",
       "      <td>Ciao Manhattan</td>\n",
       "      <td>CIAO! MANHATTAN parallels Andy Warhol Factory ...</td>\n",
       "    </tr>\n",
       "    <tr>\n",
       "      <th>17487</th>\n",
       "      <td>Ciao Norma Jean</td>\n",
       "      <td>Aspiring actress Norma Jean Baker lives in squ...</td>\n",
       "    </tr>\n",
       "    <tr>\n",
       "      <th>17893</th>\n",
       "      <td>Ciao maschio</td>\n",
       "      <td>A man walking on the beach near New York City ...</td>\n",
       "    </tr>\n",
       "    <tr>\n",
       "      <th>20328</th>\n",
       "      <td>Ciao nemico</td>\n",
       "      <td>Soon after the Allies land in Sicily, the U.S....</td>\n",
       "    </tr>\n",
       "    <tr>\n",
       "      <th>28491</th>\n",
       "      <td>Ciao Julia, sono Kevin</td>\n",
       "      <td>Two political speechwriters fall in love befor...</td>\n",
       "    </tr>\n",
       "    <tr>\n",
       "      <th>42101</th>\n",
       "      <td>Arrivederci amore, ciao</td>\n",
       "      <td>Giorgio Pellegrini, a former left-wing activis...</td>\n",
       "    </tr>\n",
       "    <tr>\n",
       "      <th>50963</th>\n",
       "      <td>Ciao</td>\n",
       "      <td>Jeff is taking care of everything Mark left be...</td>\n",
       "    </tr>\n",
       "    <tr>\n",
       "      <th>52083</th>\n",
       "      <td>Ciao Bella</td>\n",
       "      <td>Mustafa Moradi is aching to find a girlfriend....</td>\n",
       "    </tr>\n",
       "    <tr>\n",
       "      <th>52458</th>\n",
       "      <td>Ciao, Amore, Arrivederci</td>\n",
       "      <td>A bartender romances a domestic helper despite...</td>\n",
       "    </tr>\n",
       "    <tr>\n",
       "      <th>73250</th>\n",
       "      <td>Ciao Ciao</td>\n",
       "      <td>A free and wild young woman has to come back f...</td>\n",
       "    </tr>\n",
       "  </tbody>\n",
       "</table>\n",
       "</div>"
      ],
      "text/plain": [
       "                          title  \\\n",
       "3873                Ciao amici!   \n",
       "11856             Ciao, Charlie   \n",
       "12480             Ciao Pussycat   \n",
       "13516              Ciao America   \n",
       "15424            Ciao Manhattan   \n",
       "17487           Ciao Norma Jean   \n",
       "17893              Ciao maschio   \n",
       "20328               Ciao nemico   \n",
       "28491    Ciao Julia, sono Kevin   \n",
       "42101   Arrivederci amore, ciao   \n",
       "50963                      Ciao   \n",
       "52083                Ciao Bella   \n",
       "52458  Ciao, Amore, Arrivederci   \n",
       "73250                 Ciao Ciao   \n",
       "\n",
       "                                             description  \n",
       "3873   Laurel and Hardy join the army. They are hardl...  \n",
       "11856  Womanizing Charlie is shot by an angry husband...  \n",
       "12480  A playboy who refuses to give up his hedonisti...  \n",
       "13516  An offbeat, episodic film about three friends,...  \n",
       "15424  CIAO! MANHATTAN parallels Andy Warhol Factory ...  \n",
       "17487  Aspiring actress Norma Jean Baker lives in squ...  \n",
       "17893  A man walking on the beach near New York City ...  \n",
       "20328  Soon after the Allies land in Sicily, the U.S....  \n",
       "28491  Two political speechwriters fall in love befor...  \n",
       "42101  Giorgio Pellegrini, a former left-wing activis...  \n",
       "50963  Jeff is taking care of everything Mark left be...  \n",
       "52083  Mustafa Moradi is aching to find a girlfriend....  \n",
       "52458  A bartender romances a domestic helper despite...  \n",
       "73250  A free and wild young woman has to come back f...  "
      ]
     },
     "metadata": {},
     "output_type": "display_data"
    }
   ],
   "source": [
    "# Solution\n",
    "def search_movies():\n",
    "    search_word = input(\"Enter a word to search in titles and descriptions: \").lower()\n",
    "    matches = df[df['title'].str.contains(search_word, case=False, na=False) |\n",
    "                 df['description'].str.contains(search_word, case=False, na=False)]\n",
    "    display(matches[['title', 'description']])\n",
    "\n",
    "search_movies()"
   ]
  },
  {
   "cell_type": "code",
   "execution_count": 25,
   "metadata": {},
   "outputs": [
    {
     "data": {
      "text/plain": [
       "'20 Most Common Words in Titles:'"
      ]
     },
     "metadata": {},
     "output_type": "display_data"
    },
    {
     "data": {
      "text/plain": [
       "[('della', 1020),\n",
       " ('amore', 661),\n",
       " ('love', 552),\n",
       " ('dell', 467),\n",
       " ('uomo', 372),\n",
       " ('notte', 352),\n",
       " ('vita', 346),\n",
       " ('night', 336),\n",
       " ('dead', 322),\n",
       " ('delle', 305),\n",
       " ('grande', 286),\n",
       " ('girl', 265),\n",
       " ('casa', 257),\n",
       " ('last', 255),\n",
       " ('movie', 243),\n",
       " ('alla', 241),\n",
       " ('senza', 238),\n",
       " ('morte', 234),\n",
       " ('black', 224),\n",
       " ('donna', 221)]"
      ]
     },
     "metadata": {},
     "output_type": "display_data"
    }
   ],
   "source": [
    "from collections import Counter\n",
    "import re\n",
    "\n",
    "def common_title_words(min_length=4):\n",
    "    title_words = ' '.join(df['title'].dropna()).lower()\n",
    "    words = re.findall(r'\\b[a-zA-Z]{%d,}\\b' % min_length, title_words)\n",
    "    common_words = Counter(words).most_common(20)\n",
    "    display(\"20 Most Common Words in Titles:\", common_words)\n",
    "\n",
    "common_title_words()"
   ]
  },
  {
   "cell_type": "code",
   "execution_count": 26,
   "metadata": {},
   "outputs": [
    {
     "data": {
      "text/plain": [
       "'20 Most Common Words in Horror Movie Descriptions:'"
      ]
     },
     "metadata": {},
     "output_type": "display_data"
    },
    {
     "data": {
      "text/plain": [
       "[('with', 2112),\n",
       " ('that', 1939),\n",
       " ('their', 1746),\n",
       " ('they', 1588),\n",
       " ('when', 1378),\n",
       " ('young', 1330),\n",
       " ('from', 1275),\n",
       " ('after', 1193),\n",
       " ('into', 1167),\n",
       " ('group', 812),\n",
       " ('woman', 789),\n",
       " ('them', 703),\n",
       " ('family', 695),\n",
       " ('house', 663),\n",
       " ('killer', 627),\n",
       " ('find', 602),\n",
       " ('friends', 576),\n",
       " ('life', 560),\n",
       " ('mysterious', 543),\n",
       " ('where', 515)]"
      ]
     },
     "metadata": {},
     "output_type": "display_data"
    }
   ],
   "source": [
    "def genre_word_analysis(genre_choice=\"Horror\", min_length=4):\n",
    "    genre_movies = df[df['genre'].str.contains(genre_choice, case=False, na=False)]\n",
    "    descriptions = ' '.join(genre_movies['description'].dropna()).lower()\n",
    "    words = re.findall(r'\\b[a-zA-Z]{%d,}\\b' % min_length, descriptions)\n",
    "    common_words = Counter(words).most_common(20)\n",
    "    display(f\"20 Most Common Words in {genre_choice} Movie Descriptions:\", common_words)\n",
    "\n",
    "genre_word_analysis()"
   ]
  },
  {
   "cell_type": "markdown",
   "metadata": {},
   "source": [
    "## Exercise 3\n",
    "- Create a list that contains all possible movie genres (genre column).\n",
    "- For each genre `G`, add a boolean column `is_G` that contains `True` only if the movie is (also) of that genre. For example, a movie with genre `Action,Horror` should have `is_Action = True`, `is_Horror = True`, but `is_Animation = False`.\n",
    "- What is the genre associated with a longer duration?\n",
    "- For each decade starting from 1940, report the most common genre.\n",
    "- Repeat the analysis in the last two points, limiting yourself to popular movies. Think about the columns we have available: what could be a criterion for defining when a movie is popular?\n"
   ]
  },
  {
   "cell_type": "code",
   "execution_count": 30,
   "metadata": {},
   "outputs": [
    {
     "name": "stdout",
     "output_type": "stream",
     "text": [
      "The genre associated with the longest duration is History\n"
     ]
    }
   ],
   "source": [
    "# Solution\n",
    "all_genres = set()\n",
    "for genres in df['genre'].dropna():\n",
    "    all_genres.update(genres.split(','))\n",
    "all_genres = list(all_genres)\n",
    "for genre in all_genres:\n",
    "    df[f'is_{genre}'] = df['genre'].apply(lambda x: genre in x.split(',') if pd.notna(x) else False)\n",
    "\n",
    "genre_durations = {genre: df[df[f'is_{genre}']]['duration'].mean() for genre in all_genres}\n",
    "longest_genre = max(genre_durations, key=genre_durations.get)\n",
    "print(f\"The genre associated with the longest duration is{longest_genre}\")"
   ]
  },
  {
   "cell_type": "code",
   "execution_count": 34,
   "metadata": {},
   "outputs": [
    {
     "name": "stdout",
     "output_type": "stream",
     "text": [
      "The most common genre in the 1940s is Comedy\n",
      "The most common genre in the 1950s is  Drama\n",
      "The most common genre in the 1960s is Drama\n",
      "The most common genre in the 1970s is Drama\n",
      "The most common genre in the 1980s is Comedy\n",
      "The most common genre in the 1990s is Comedy\n",
      "The most common genre in the 2000s is Drama\n",
      "The most common genre in the 2010s is Drama\n",
      "The most common genre in the 2020s is Drama\n"
     ]
    }
   ],
   "source": [
    "df['decade'] = (df['year'] // 10) * 10\n",
    "decades = df['decade'].unique()\n",
    "for decade in sorted(decades):\n",
    "    if decade >= 1940:\n",
    "        genre_columns = [f'is_{genre}' for genre in all_genres]\n",
    "        most_common_genre = df[df['decade'] == decade][genre_columns].sum().idxmax().replace('is_', '')\n",
    "        print(f\"The most common genre in the {decade}s is {most_common_genre}\")\n",
    "\n",
    "popular_movies = df[df['votes'] > 1000]"
   ]
  },
  {
   "cell_type": "code",
   "execution_count": 40,
   "metadata": {},
   "outputs": [
    {
     "name": "stdout",
     "output_type": "stream",
     "text": [
      "The genre associated with the longest duration among popular movies is Musical\n"
     ]
    }
   ],
   "source": [
    "genre_durations_popular = {genre: popular_movies[popular_movies[f'is_{genre}']]['duration'].mean() for genre in all_genres}\n",
    "longest_genre_popular = max(genre_durations_popular, key=genre_durations_popular.get)\n",
    "print(f\"The genre associated with the longest duration among popular movies is {longest_genre_popular}\")"
   ]
  },
  {
   "cell_type": "code",
   "execution_count": 38,
   "metadata": {},
   "outputs": [
    {
     "name": "stdout",
     "output_type": "stream",
     "text": [
      "The most common genre among popular movies in the 1940s is  Drama\n",
      "The most common genre among popular movies in the 1950s is  Drama\n",
      "The most common genre among popular movies in the 1960s is Drama\n",
      "The most common genre among popular movies in the 1970s is  Drama\n",
      "The most common genre among popular movies in the 1980s is Comedy\n",
      "The most common genre among popular movies in the 1990s is  Drama\n",
      "The most common genre among popular movies in the 2000s is  Drama\n",
      "The most common genre among popular movies in the 2010s is  Drama\n",
      "The most common genre among popular movies in the 2020s is  Drama\n"
     ]
    }
   ],
   "source": [
    "decades_popular = popular_movies['decade'].unique()\n",
    "for decade in sorted(decades_popular):\n",
    "    if decade >= 1940:\n",
    "        genre_columns = [f'is_{genre}' for genre in all_genres]\n",
    "        most_common_genre_popular = popular_movies[popular_movies['decade'] == decade][genre_columns].sum().idxmax().replace('is_', '')\n",
    "        print(f\"The most common genre among popular movies in the {decade}s is {most_common_genre_popular}\")"
   ]
  },
  {
   "cell_type": "markdown",
   "metadata": {},
   "source": [
    "### Exercise 4\n",
    "We would like to use a more appropriate type for the `date_published` column. Find out how to do this by reading the [documentation for the `pd.to_datetime` function](https://pandas.pydata.org/docs/reference/api/pandas.to_datetime.html).\n",
    "\n",
    "Overwrite the `date_published` column with the converted datetime value. If there are any rows for which we cannot parse the date, set it to a null value.\n"
   ]
  },
  {
   "cell_type": "code",
   "execution_count": 45,
   "metadata": {},
   "outputs": [
    {
     "data": {
      "text/html": [
       "<div>\n",
       "<style scoped>\n",
       "    .dataframe tbody tr th:only-of-type {\n",
       "        vertical-align: middle;\n",
       "    }\n",
       "\n",
       "    .dataframe tbody tr th {\n",
       "        vertical-align: top;\n",
       "    }\n",
       "\n",
       "    .dataframe thead th {\n",
       "        text-align: right;\n",
       "    }\n",
       "</style>\n",
       "<table border=\"1\" class=\"dataframe\">\n",
       "  <thead>\n",
       "    <tr style=\"text-align: right;\">\n",
       "      <th></th>\n",
       "      <th>imdb_title_id</th>\n",
       "      <th>title</th>\n",
       "      <th>original_title</th>\n",
       "      <th>year</th>\n",
       "      <th>date_published</th>\n",
       "      <th>genre</th>\n",
       "      <th>duration</th>\n",
       "      <th>country</th>\n",
       "      <th>language</th>\n",
       "      <th>director</th>\n",
       "      <th>...</th>\n",
       "      <th>is_Sci-Fi</th>\n",
       "      <th>is_ Action</th>\n",
       "      <th>is_ Sci-Fi</th>\n",
       "      <th>is_ Horror</th>\n",
       "      <th>is_ Thriller</th>\n",
       "      <th>is_War</th>\n",
       "      <th>is_ Fantasy</th>\n",
       "      <th>is_ Reality-TV</th>\n",
       "      <th>is_Drama</th>\n",
       "      <th>decade</th>\n",
       "    </tr>\n",
       "  </thead>\n",
       "  <tbody>\n",
       "    <tr>\n",
       "      <th>0</th>\n",
       "      <td>tt0000009</td>\n",
       "      <td>Miss Jerry</td>\n",
       "      <td>Miss Jerry</td>\n",
       "      <td>1894</td>\n",
       "      <td>1894-10-09</td>\n",
       "      <td>Romance</td>\n",
       "      <td>45</td>\n",
       "      <td>USA</td>\n",
       "      <td>NaN</td>\n",
       "      <td>Alexander Black</td>\n",
       "      <td>...</td>\n",
       "      <td>False</td>\n",
       "      <td>False</td>\n",
       "      <td>False</td>\n",
       "      <td>False</td>\n",
       "      <td>False</td>\n",
       "      <td>False</td>\n",
       "      <td>False</td>\n",
       "      <td>False</td>\n",
       "      <td>False</td>\n",
       "      <td>1890</td>\n",
       "    </tr>\n",
       "    <tr>\n",
       "      <th>1</th>\n",
       "      <td>tt0000574</td>\n",
       "      <td>The Story of the Kelly Gang</td>\n",
       "      <td>The Story of the Kelly Gang</td>\n",
       "      <td>1906</td>\n",
       "      <td>1906-12-26</td>\n",
       "      <td>Biography, Crime, Drama</td>\n",
       "      <td>70</td>\n",
       "      <td>Australia</td>\n",
       "      <td>NaN</td>\n",
       "      <td>Charles Tait</td>\n",
       "      <td>...</td>\n",
       "      <td>False</td>\n",
       "      <td>False</td>\n",
       "      <td>False</td>\n",
       "      <td>False</td>\n",
       "      <td>False</td>\n",
       "      <td>False</td>\n",
       "      <td>False</td>\n",
       "      <td>False</td>\n",
       "      <td>False</td>\n",
       "      <td>1900</td>\n",
       "    </tr>\n",
       "    <tr>\n",
       "      <th>2</th>\n",
       "      <td>tt0001892</td>\n",
       "      <td>Den sorte drøm</td>\n",
       "      <td>Den sorte drøm</td>\n",
       "      <td>1911</td>\n",
       "      <td>1911-08-19</td>\n",
       "      <td>Drama</td>\n",
       "      <td>53</td>\n",
       "      <td>Germany, Denmark</td>\n",
       "      <td>NaN</td>\n",
       "      <td>Urban Gad</td>\n",
       "      <td>...</td>\n",
       "      <td>False</td>\n",
       "      <td>False</td>\n",
       "      <td>False</td>\n",
       "      <td>False</td>\n",
       "      <td>False</td>\n",
       "      <td>False</td>\n",
       "      <td>False</td>\n",
       "      <td>False</td>\n",
       "      <td>True</td>\n",
       "      <td>1910</td>\n",
       "    </tr>\n",
       "    <tr>\n",
       "      <th>3</th>\n",
       "      <td>tt0002101</td>\n",
       "      <td>Cleopatra</td>\n",
       "      <td>Cleopatra</td>\n",
       "      <td>1912</td>\n",
       "      <td>1912-11-13</td>\n",
       "      <td>Drama, History</td>\n",
       "      <td>100</td>\n",
       "      <td>USA</td>\n",
       "      <td>English</td>\n",
       "      <td>Charles L. Gaskill</td>\n",
       "      <td>...</td>\n",
       "      <td>False</td>\n",
       "      <td>False</td>\n",
       "      <td>False</td>\n",
       "      <td>False</td>\n",
       "      <td>False</td>\n",
       "      <td>False</td>\n",
       "      <td>False</td>\n",
       "      <td>False</td>\n",
       "      <td>True</td>\n",
       "      <td>1910</td>\n",
       "    </tr>\n",
       "    <tr>\n",
       "      <th>4</th>\n",
       "      <td>tt0002130</td>\n",
       "      <td>L'Inferno</td>\n",
       "      <td>L'Inferno</td>\n",
       "      <td>1911</td>\n",
       "      <td>1911-03-06</td>\n",
       "      <td>Adventure, Drama, Fantasy</td>\n",
       "      <td>68</td>\n",
       "      <td>Italy</td>\n",
       "      <td>Italian</td>\n",
       "      <td>Francesco Bertolini, Adolfo Padovan</td>\n",
       "      <td>...</td>\n",
       "      <td>False</td>\n",
       "      <td>False</td>\n",
       "      <td>False</td>\n",
       "      <td>False</td>\n",
       "      <td>False</td>\n",
       "      <td>False</td>\n",
       "      <td>True</td>\n",
       "      <td>False</td>\n",
       "      <td>False</td>\n",
       "      <td>1910</td>\n",
       "    </tr>\n",
       "  </tbody>\n",
       "</table>\n",
       "<p>5 rows × 69 columns</p>\n",
       "</div>"
      ],
      "text/plain": [
       "  imdb_title_id                        title               original_title  \\\n",
       "0     tt0000009                   Miss Jerry                   Miss Jerry   \n",
       "1     tt0000574  The Story of the Kelly Gang  The Story of the Kelly Gang   \n",
       "2     tt0001892               Den sorte drøm               Den sorte drøm   \n",
       "3     tt0002101                    Cleopatra                    Cleopatra   \n",
       "4     tt0002130                    L'Inferno                    L'Inferno   \n",
       "\n",
       "   year date_published                      genre  duration           country  \\\n",
       "0  1894     1894-10-09                    Romance        45               USA   \n",
       "1  1906     1906-12-26    Biography, Crime, Drama        70         Australia   \n",
       "2  1911     1911-08-19                      Drama        53  Germany, Denmark   \n",
       "3  1912     1912-11-13             Drama, History       100               USA   \n",
       "4  1911     1911-03-06  Adventure, Drama, Fantasy        68             Italy   \n",
       "\n",
       "  language                             director  ... is_Sci-Fi is_ Action  \\\n",
       "0      NaN                      Alexander Black  ...     False      False   \n",
       "1      NaN                         Charles Tait  ...     False      False   \n",
       "2      NaN                            Urban Gad  ...     False      False   \n",
       "3  English                   Charles L. Gaskill  ...     False      False   \n",
       "4  Italian  Francesco Bertolini, Adolfo Padovan  ...     False      False   \n",
       "\n",
       "  is_ Sci-Fi is_ Horror  is_ Thriller  is_War is_ Fantasy is_ Reality-TV  \\\n",
       "0      False      False         False   False       False          False   \n",
       "1      False      False         False   False       False          False   \n",
       "2      False      False         False   False       False          False   \n",
       "3      False      False         False   False       False          False   \n",
       "4      False      False         False   False        True          False   \n",
       "\n",
       "  is_Drama  decade  \n",
       "0    False    1890  \n",
       "1    False    1900  \n",
       "2     True    1910  \n",
       "3     True    1910  \n",
       "4    False    1910  \n",
       "\n",
       "[5 rows x 69 columns]"
      ]
     },
     "metadata": {},
     "output_type": "display_data"
    }
   ],
   "source": [
    "# Solution\n",
    "df['date_published'] = pd.to_datetime(df['date_published'], errors='coerce')\n",
    "display(df.head())"
   ]
  }
 ],
 "metadata": {
  "kernelspec": {
   "display_name": "Python 3 (ipykernel)",
   "language": "python",
   "name": "python3"
  },
  "language_info": {
   "codemirror_mode": {
    "name": "ipython",
    "version": 3
   },
   "file_extension": ".py",
   "mimetype": "text/x-python",
   "name": "python",
   "nbconvert_exporter": "python",
   "pygments_lexer": "ipython3",
   "version": "3.12.9"
  }
 },
 "nbformat": 4,
 "nbformat_minor": 4
}
