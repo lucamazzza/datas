{
 "cells": [
  {
   "cell_type": "markdown",
   "metadata": {},
   "source": [
    "# Python Crash Course\n",
    "\n",
    "![](https://imgs.xkcd.com/comics/python.png)\n",
    "\n",
    "(Note: in python 3, Hello World is `print(\"Hello, world!\")`, with the parenthesis.)"
   ]
  },
  {
   "cell_type": "markdown",
   "metadata": {},
   "source": [
    "## Instructions\n",
    "Write the Python program in the cell below the exercise text (or create a new one using the \"+\" button in the top left). Always print the final result to the screen to verify the correctness of the exercise. Sometimes we recall some important concepts in a code cell below the exercise text, try running it and possibly modifying it to make sure you've understood the necessary points.\n",
    "\n",
    "Tip: to run a code cell, press `CTRL+Enter` while the cell is selected.\n",
    "\n",
    "Remember: all previously assigned variables remain in memory! If you wish, you can reset the memory state by running from the menu above: `Kernel -> Restart & Clear Outputs`.\n",
    "\n",
    "## Submission\n",
    "For all exercises, it is mandatory to **submit the solution to all exercises** (except those marked as optional) **before the start of the next lesson**, in the appropriate assignment on iCorsi. To submit:\n",
    "- Run the entire notebook from the beginning (`Kernel -> Restart & Run All`), and check that the solutions are as expected;\n",
    "- Export the notebook in HTML format (`File -> Download as...`) and submit the resulting file.\n",
    "\n",
    "If you were unable to complete one or more exercises, describe the issue encountered and **submit the file with the rest of the solutions** anyway.\n",
    "\n",
    "## Solutions\n",
    "During the next lesson, the solutions to the exercises will be published (and possibly discussed). Always review them and compare them with yours. If something is unclear, contact the instructors via email.\n",
    "\n",
    "## Where to look for help\n",
    "Almost everything we need is written somewhere in here: [Python tutorial](https://docs.python.org/3.10/tutorial/index.html). Particularly of interest for now: [Basics](https://docs.python.org/3.10/tutorial/introduction.html), [Control Flow](https://docs.python.org/3.10/tutorial/controlflow.html) (if, for, while...), [Data Structures](https://docs.python.org/3.10/tutorial/datastructures.html) (lists, sets, dicts). [Here](https://docs.python.org/3.10/tutorial/inputoutput.html#fancier-output-formatting) you can find a lot of info on string formatting. If needed, [here](https://docs.python.org/3.10/library/index.html) is the full documentation of the standard library. To search for a keyword in the documentation, use the quick search box in the top right.\n",
    "\n",
    "Or use Google. Be careful in this case that we are using Python 3. Until a few years ago, Python 2 was still more common, so you may find some suggestions for that version. For example, in Python 2, `print` did not need parentheses.\n",
    "\n",
    "### Tips\n",
    "\n",
    "- `CTRL+ENTER`: Run the current cell\n",
    "- `Kernel > Restart kernel and clear all outputs...`: resets the notebook to its initial state, forgetting all variables\n",
    "- \"Play\" icon: run this cell and continue\n",
    "- \"Stop\" icon: interrupt execution\n",
    "- \"Fast forward\" icon: reset the kernel and run the entire notebook\n",
    "- \"+\" icon: add a cell below the current one\n",
    "\n",
    "You can change the type of a cell (Markdown or code) using the appropriate dropdown (usually, it won't be necessary to do this)."
   ]
  },
  {
   "cell_type": "markdown",
   "metadata": {},
   "source": [
    "## Easy Warm-Up Exercises\n",
    "To get a bit familiar with the language.\n",
    "If you don't know how to use f-strings, read [this tutorial](https://realpython.com/python-f-strings/).\n",
    "\n",
    "### 0.1\n",
    "Ask the user for their name, then greet them."
   ]
  },
  {
   "cell_type": "code",
   "execution_count": 65,
   "metadata": {},
   "outputs": [
    {
     "name": "stdin",
     "output_type": "stream",
     "text": [
      "Question?  YEs\n"
     ]
    },
    {
     "name": "stdout",
     "output_type": "stream",
     "text": [
      "The answer is YEs\n"
     ]
    }
   ],
   "source": [
    "# Hints\n",
    "answer = input(\"Question? \") # Get input (string) from user\n",
    "print(f\"The answer is {answer}\") # Format a string"
   ]
  },
  {
   "cell_type": "code",
   "execution_count": 66,
   "metadata": {},
   "outputs": [
    {
     "name": "stdin",
     "output_type": "stream",
     "text": [
      "What is your name Luca\n"
     ]
    },
    {
     "name": "stdout",
     "output_type": "stream",
     "text": [
      "Hello, Luca!\n"
     ]
    }
   ],
   "source": [
    "# Solution\n",
    "name = input(\"What is your name\")\n",
    "print(f\"Hello, {name}!\")"
   ]
  },
  {
   "cell_type": "markdown",
   "metadata": {},
   "source": [
    "### 0.2\n",
    "Greet the user N times, where N is decided by the user.\n"
   ]
  },
  {
   "cell_type": "code",
   "execution_count": 67,
   "metadata": {},
   "outputs": [
    {
     "name": "stdout",
     "output_type": "stream",
     "text": [
      "<class 'str'> <class 'int'>\n",
      "0\n",
      "1\n",
      "2\n",
      "3\n",
      "4\n"
     ]
    }
   ],
   "source": [
    "# Hints\n",
    "string_variable = \"5\"\n",
    "integer_variable = int(string_variable) # cast\n",
    "print(type(string_variable), type(integer_variable))\n",
    "\n",
    "# this works...\n",
    "for i in range(integer_variable):\n",
    "    print(i)\n",
    "    \n",
    "# this does not work!\n",
    "#for i in range(string_variable):\n",
    "#    print(i)"
   ]
  },
  {
   "cell_type": "code",
   "execution_count": 68,
   "metadata": {},
   "outputs": [
    {
     "name": "stdin",
     "output_type": "stream",
     "text": [
      "What's your name?  Luca\n",
      "How many times do you want to be greeted?  10\n"
     ]
    },
    {
     "name": "stdout",
     "output_type": "stream",
     "text": [
      "Hello Luca!\n",
      "Hello Luca!\n",
      "Hello Luca!\n",
      "Hello Luca!\n",
      "Hello Luca!\n",
      "Hello Luca!\n",
      "Hello Luca!\n",
      "Hello Luca!\n",
      "Hello Luca!\n",
      "Hello Luca!\n"
     ]
    }
   ],
   "source": [
    "# Solution\n",
    "name = input(\"What's your name? \")\n",
    "times = int(input(\"How many times do you want to be greeted? \"))\n",
    "for i in range(times):\n",
    "  print(f\"Hello {name}!\")"
   ]
  },
  {
   "cell_type": "markdown",
   "metadata": {},
   "source": [
    "### 0.3\n",
    "Print a 5x5 matrix like this, using two nested for loops.\n",
    "```\n",
    "1  2  3  4  5\n",
    "2  4  6  8 10\n",
    "3  6  9 12 15\n",
    "4  8 12 16 20\n",
    "5 10 15 20 25\n",
    "```"
   ]
  },
  {
   "cell_type": "code",
   "execution_count": 69,
   "metadata": {},
   "outputs": [
    {
     "name": "stdout",
     "output_type": "stream",
     "text": [
      "1 2\n",
      "1\t2\t3\t4\n",
      "a = 2; b = 3; a + b = 5\n"
     ]
    }
   ],
   "source": [
    "# Hints\n",
    "print(\"1 \", end=\"\") # Does not print the newline at the end\n",
    "print(\"2\") # By default prints the newline at the end\n",
    "print(\"1\\t2\\t3\\t4\") # \\t is a tab character, like in Java\n",
    "a = 2\n",
    "b = 3\n",
    "print(f\"a = {a}; b = {b}; a + b = {a+b}\") # Inside {} you can put any expression!\n"
   ]
  },
  {
   "cell_type": "code",
   "execution_count": 70,
   "metadata": {},
   "outputs": [
    {
     "name": "stdout",
     "output_type": "stream",
     "text": [
      "  1  2  3  4  5\n",
      "\n",
      "  2  4  6  8 10\n",
      "\n",
      "  3  6  9 12 15\n",
      "\n",
      "  4  8 12 16 20\n",
      "\n",
      "  5 10 15 20 25\n",
      "\n"
     ]
    }
   ],
   "source": [
    "# Solution\n",
    "for i in range(5):\n",
    "  for j in range(5):\n",
    "    print(\"{0:3}\".format((i+1)*(j+1)), end=\"\")\n",
    "  print(\"\\n\")"
   ]
  },
  {
   "cell_type": "markdown",
   "metadata": {},
   "source": [
    "### 0.4 Fizz\n",
    "Print the numbers from 1 to 20, one per line. But if the number is divisible by 3, print \"Fizz\" instead of the number. Use the `%` operator to get the remainder of the division between two integers, as in Java. If you want, learn the functionalities of `range` by reading its [documentation](https://docs.python.org/3.6/library/stdtypes.html?highlight=range#range) (especially the examples)."
   ]
  },
  {
   "cell_type": "code",
   "execution_count": 71,
   "metadata": {},
   "outputs": [
    {
     "name": "stdout",
     "output_type": "stream",
     "text": [
      "1\n",
      "2\n",
      "Fizz\n",
      "4\n",
      "5\n",
      "Fizz\n",
      "7\n",
      "8\n",
      "Fizz\n",
      "10\n",
      "11\n",
      "Fizz\n",
      "13\n",
      "14\n",
      "Fizz\n",
      "16\n",
      "17\n",
      "Fizz\n",
      "19\n"
     ]
    }
   ],
   "source": [
    "# Solution\n",
    "for i in range(20):\n",
    "  if (i == 0): continue\n",
    "  if (i%3==0):\n",
    "    print(\"Fizz\")\n",
    "  else:\n",
    "    print(f\"{i}\")"
   ]
  },
  {
   "cell_type": "markdown",
   "metadata": {},
   "source": [
    "### 0.5 Fizz Buzz\n",
    "![](https://cdn-images-1.medium.com/max/1600/1*lPfdDAivK_QNzqknqLCP8w.png)\n",
    "\n",
    "Print the numbers from 1 to 20, one per line. But:\n",
    "- if the number is divisible by 3, print `Fizz!` instead of the number;\n",
    "- if the number is divisible by 5, print `Buzz!` instead of the number;\n",
    "- if the number is divisible by both 3 and 5, print `FizzBuzz!` instead of the number.\n",
    "\n",
    "It seems simple, but [don't take it too much for granted](https://blog.codinghorror.com/why-cant-programmers-program/).\n"
   ]
  },
  {
   "cell_type": "code",
   "execution_count": 72,
   "metadata": {},
   "outputs": [
    {
     "name": "stdout",
     "output_type": "stream",
     "text": [
      "Yes\n"
     ]
    }
   ],
   "source": [
    "# Hint\n",
    "a = 5\n",
    "if (a > 3) and (a < 7):\n",
    "    print(\"Yes\")\n",
    "else:\n",
    "    print(\"No\")"
   ]
  },
  {
   "cell_type": "code",
   "execution_count": 73,
   "metadata": {},
   "outputs": [
    {
     "name": "stdout",
     "output_type": "stream",
     "text": [
      "1\n",
      "2\n",
      "Fizz!\n",
      "4\n",
      "Buzz!\n",
      "Fizz!\n",
      "7\n",
      "8\n",
      "Fizz!\n",
      "Buzz!\n",
      "11\n",
      "Fizz!\n",
      "13\n",
      "14\n",
      "FizzBuzz!\n",
      "16\n",
      "17\n",
      "Fizz!\n",
      "19\n"
     ]
    }
   ],
   "source": [
    "# Solution\n",
    "for i in range(20):\n",
    "  if (i == 0): continue\n",
    "  if (i%3==0) and (i%5==0):\n",
    "    print(\"FizzBuzz!\")\n",
    "  elif (i%5==0):\n",
    "    print(\"Buzz!\")\n",
    "  elif (i%3==0):\n",
    "    print(\"Fizz!\")\n",
    "  else:\n",
    "    print(f\"{i}\")\n"
   ]
  },
  {
   "cell_type": "markdown",
   "metadata": {},
   "source": [
    "### 0.6 f-strings\n",
    "\n",
    "Complete the cell below (read the documentation on f-strings!) so that it prints:\n",
    "```\n",
    "We are traveling at 98.13 km/h (81.8% of the maximum speed)\n",
    "```"
   ]
  },
  {
   "cell_type": "code",
   "execution_count": 74,
   "metadata": {},
   "outputs": [
    {
     "name": "stdout",
     "output_type": "stream",
     "text": [
      "We are currently traveling at 98.13 km/h (81.8% of the maximum speed)\n"
     ]
    }
   ],
   "source": [
    "max_speed = 120  # km/h\n",
    "current_speed = 98.128214\n",
    "# Complete ...\n",
    "print(f\"We are currently traveling at {current_speed:.2f} km/h ({(current_speed/max_speed)*100:.1f}% of the maximum speed)\")"
   ]
  },
  {
   "cell_type": "markdown",
   "metadata": {},
   "source": [
    "## Exercise 1 (lists)\n",
    "The Fibonacci sequence is a series of integers where the first two elements are 1, and the subsequent elements are given by the sum of the two preceding ones (e.g., `[1, 1, 2, 3, 5, 8, 13, 21...]`)\n",
    "\n",
    "![Fibonacci](https://images.wired.it/wp-content/uploads/2017/11/23130621/1511435180_Fibonacci-1050x590.jpg)\n",
    "([info](https://www.wired.it/play/cultura/2017/11/23/fibonacci-day-numeri/))\n",
    "\n",
    "### 1.1\n",
    "Write a program that generates a list (which we will call `listFib`) containing the Fibonacci sequence with all numbers less than or equal to $200$ (in other words, the last element of the list should be a number less than or equal to $200$). Hint: initialize the list with the first two elements `listFib = [1, 1]` and then extend it. _How many elements does the list contain?_"
   ]
  },
  {
   "cell_type": "code",
   "execution_count": 75,
   "metadata": {},
   "outputs": [
    {
     "name": "stdout",
     "output_type": "stream",
     "text": [
      "3\n",
      "[10, 20, 30, 40]\n",
      "Adding an element to the list\n",
      "Adding an element to the list\n",
      "Exiting the while loop\n",
      "[10, 20, 30, 40, 'New element', 'New element']\n",
      "The first element of the list is 10\n",
      "The third-to-last element of the list is 40\n"
     ]
    }
   ],
   "source": [
    "# Hint \n",
    "liste = [10, 20, 30]\n",
    "print(len(liste)) # Length of the list (an int)\n",
    "\n",
    "liste.append(40)  # Add element to a list \n",
    "print(liste)\n",
    "\n",
    "while(True):\n",
    "    if len(liste) < 6:\n",
    "        print(\"Adding an element to the list\")\n",
    "        liste.append(\"New element\")\n",
    "    else:\n",
    "        print('Exiting the while loop')\n",
    "        break # Exit the while loop\n",
    "        \n",
    "print(liste) # Note that the list can contain any type\n",
    "\n",
    "print(f\"The first element of the list is {liste[0]}\")\n",
    "print(f\"The third-to-last element of the list is {liste[-3]}\")"
   ]
  },
  {
   "cell_type": "code",
   "execution_count": 76,
   "metadata": {},
   "outputs": [
    {
     "name": "stdout",
     "output_type": "stream",
     "text": [
      "10\n",
      "20\n",
      "30\n",
      "40\n",
      "New element\n",
      "New element\n"
     ]
    }
   ],
   "source": [
    "# Hint: how to iterate over a list:\n",
    "for elem in liste:  # No need to define an index i!\n",
    "    print(elem)"
   ]
  },
  {
   "cell_type": "code",
   "execution_count": 77,
   "metadata": {},
   "outputs": [
    {
     "name": "stdout",
     "output_type": "stream",
     "text": [
      "[1, 1, 2, 3, 5, 8, 13, 21, 34, 55, 89, 144]\n"
     ]
    }
   ],
   "source": [
    "#Solution\n",
    "listFib = [1, 1]\n",
    "while True:\n",
    "    next_value = listFib[-1] + listFib[-2]\n",
    "    if next_value > 200:\n",
    "        break\n",
    "    listFib.append(next_value)\n",
    "print(listFib)"
   ]
  },
  {
   "cell_type": "markdown",
   "metadata": {},
   "source": [
    "### 1.2\n",
    "Execute `listFib * 2` and examine the result. Do you understand what happened?\n",
    "\n",
    "And what happens if you execute `listFib * 1.5`?"
   ]
  },
  {
   "cell_type": "code",
   "execution_count": 78,
   "metadata": {},
   "outputs": [
    {
     "name": "stdout",
     "output_type": "stream",
     "text": [
      "[1, 1, 2, 3, 5, 8, 13, 21, 34, 55, 89, 144, 1, 1, 2, 3, 5, 8, 13, 21, 34, 55, 89, 144]\n"
     ]
    }
   ],
   "source": [
    "# Solution\n",
    "print(listFib*2)\n",
    "#print(listFib*1.5)"
   ]
  },
  {
   "cell_type": "markdown",
   "metadata": {},
   "source": [
    "### 1.3\n",
    "Create a new list `listFib2`. Each element of the new list should be equal to the corresponding element of the list `listFib` multiplied by two.\n",
    "\n",
    "Hint: It is useful to initialize an empty list with the command `lista = []` (or, equivalently, `lista = list()`) and then fill it during the execution of the code with the command `lista.append(elemento)`."
   ]
  },
  {
   "cell_type": "code",
   "execution_count": 79,
   "metadata": {},
   "outputs": [
    {
     "name": "stdout",
     "output_type": "stream",
     "text": [
      "[2, 2, 4, 6, 10, 16, 26, 42, 68, 110, 178, 288]\n"
     ]
    }
   ],
   "source": [
    "# Solution\n",
    "listFib2 = [x * 2 for x in listFib]\n",
    "print(listFib2)"
   ]
  },
  {
   "cell_type": "markdown",
   "metadata": {},
   "source": [
    "### 1.4\n",
    "Generate a new list `listRatio` where the element at position $i$ is equal to $\\frac{listFib[i+1]}{listFib[i]}$."
   ]
  },
  {
   "cell_type": "code",
   "execution_count": 80,
   "metadata": {},
   "outputs": [
    {
     "name": "stdout",
     "output_type": "stream",
     "text": [
      "[1.0, 2.0, 1.5, 1.6666666666666667, 1.6, 1.625, 1.6153846153846154, 1.619047619047619, 1.6176470588235294, 1.6181818181818182, 1.6179775280898876]\n"
     ]
    }
   ],
   "source": [
    "# Solution\n",
    "listRatio = [listFib[i+1] / listFib[i] for i in range(len(listFib) - 1)]\n",
    "print(listRatio)"
   ]
  },
  {
   "cell_type": "markdown",
   "metadata": {},
   "source": [
    "### 1.5\n",
    "Generate a list `newList` that contains all numbers between 5 and 100 (inclusive) that do _not_ belong to the Fibonacci sequence.\n",
    "\n",
    "Hint: The `in` operator returns `True` if the element on the left is present in the list on the right; use `not in` to check if it is not present."
   ]
  },
  {
   "cell_type": "code",
   "execution_count": 81,
   "metadata": {},
   "outputs": [
    {
     "name": "stdout",
     "output_type": "stream",
     "text": [
      "True\n",
      "False\n",
      "True\n"
     ]
    }
   ],
   "source": [
    "# Hint\n",
    "print(1 in [1,2,3])\n",
    "print(0 in [1,2,3])\n",
    "print(0 not in [1,2,3])"
   ]
  },
  {
   "cell_type": "code",
   "execution_count": 82,
   "metadata": {},
   "outputs": [
    {
     "name": "stdout",
     "output_type": "stream",
     "text": [
      "[6, 7, 9, 10, 11, 12, 14, 15, 16, 17, 18, 19, 20, 22, 23, 24, 25, 26, 27, 28, 29, 30, 31, 32, 33, 35, 36, 37, 38, 39, 40, 41, 42, 43, 44, 45, 46, 47, 48, 49, 50, 51, 52, 53, 54, 56, 57, 58, 59, 60, 61, 62, 63, 64, 65, 66, 67, 68, 69, 70, 71, 72, 73, 74, 75, 76, 77, 78, 79, 80, 81, 82, 83, 84, 85, 86, 87, 88, 90, 91, 92, 93, 94, 95, 96, 97, 98, 99, 100]\n"
     ]
    }
   ],
   "source": [
    "# Solution\n",
    "newList = [x for x in range(5, 101) if x not in listFib]\n",
    "print(newList)"
   ]
  },
  {
   "cell_type": "markdown",
   "metadata": {},
   "source": [
    "### 1.6\n",
    "Write a program that generates a list of lists (where each element of the list is itself a list). Specifically, the generated list should consist of 2 lists: the first containing all the even numbers from `listFib`, and the second containing all the odd numbers."
   ]
  },
  {
   "cell_type": "code",
   "execution_count": 83,
   "metadata": {},
   "outputs": [
    {
     "name": "stdout",
     "output_type": "stream",
     "text": [
      "[[2, 8, 34, 144], [1, 1, 3, 5, 13, 21, 55, 89]]\n"
     ]
    }
   ],
   "source": [
    "# Solution\n",
    "even_numbers = [x for x in listFib if x % 2 == 0]\n",
    "odd_numbers = [x for x in listFib if x % 2 != 0]\n",
    "lol = [even_numbers, odd_numbers]\n",
    "print(lol)"
   ]
  },
  {
   "cell_type": "markdown",
   "metadata": {},
   "source": [
    "### 1.7 (opzionale)\n",
    "Similar to point 3. Given the list `listFib` generated in step 1, for all integer numbers from $5$ to $10$, check if the number is present in the list. If it is not present, add it to the list while maintaining the ascending order of the elements. If it is present, remove it from the list. Useful methods: `remove`, `insert`. See the cell below to understand how they work."
   ]
  },
  {
   "cell_type": "code",
   "execution_count": 84,
   "metadata": {},
   "outputs": [
    {
     "name": "stdout",
     "output_type": "stream",
     "text": [
      "[10, 13, 20, 30, 40, 60]\n",
      "[10, 13, 20, 40, 60]\n"
     ]
    }
   ],
   "source": [
    "# Hint\n",
    "liste = [10, 20, 30, 40, 60]\n",
    "liste.insert(1, 13) # Insert the number 13 at index position 1 \n",
    "print(liste)\n",
    "\n",
    "liste.remove(30) # Remove the number 30\n",
    "print(liste)"
   ]
  },
  {
   "cell_type": "code",
   "execution_count": 85,
   "metadata": {},
   "outputs": [
    {
     "name": "stdout",
     "output_type": "stream",
     "text": [
      "[1, 1, 2, 3, 6, 7, 9, 10, 13, 21, 34, 55, 89, 144]\n"
     ]
    }
   ],
   "source": [
    "# Solution\n",
    "for num in range(5, 11):\n",
    "    if num not in listFib:\n",
    "        listFib.append(num)\n",
    "        continue\n",
    "\n",
    "    if num in listFib:\n",
    "        listFib.remove(num)\n",
    "\n",
    "listFib.sort()\n",
    "print(listFib)"
   ]
  },
  {
   "cell_type": "markdown",
   "metadata": {},
   "source": [
    "## Exercise 2 (dictionaries)\n",
    "Dictionaries are similar to HashMaps in Java and function in the same way. [Here](http://introtopython.org/dictionaries.html) you can find an excellent gradual introduction. They are used very frequently, so it's important to know how to manipulate them.\n",
    "\n",
    "### Very Quick Introduction."
   ]
  },
  {
   "cell_type": "code",
   "execution_count": 86,
   "metadata": {},
   "outputs": [
    {
     "name": "stdout",
     "output_type": "stream",
     "text": [
      "{'Manno': 1318, 'Bioggio': 2648, 'Lugano': 63932}\n"
     ]
    }
   ],
   "source": [
    "pop = dict() # Create an empty dictionary\n",
    "pop[\"Manno\"] = 1318 # Add key-value pair\n",
    "pop[\"Bioggio\"] = 2648\n",
    "pop[\"Lugano\"] = 63932\n",
    "# Equivalent:\n",
    "# pop = {\"Manno\" : 1318, \"Bioggio\" : 2648, \"Lugano\" : 63932}\n",
    "print(pop)"
   ]
  },
  {
   "cell_type": "code",
   "execution_count": 87,
   "metadata": {},
   "outputs": [
    {
     "name": "stdout",
     "output_type": "stream",
     "text": [
      "1318\n",
      "dict_keys(['Manno', 'Bioggio', 'Lugano'])\n",
      "True\n"
     ]
    }
   ],
   "source": [
    "print(pop[\"Manno\"]) # Query\n",
    "print(pop.keys()) # All keys: behaves like a list\n",
    "print(\"Lugano\" in pop.keys())"
   ]
  },
  {
   "cell_type": "code",
   "execution_count": 88,
   "metadata": {},
   "outputs": [
    {
     "name": "stdout",
     "output_type": "stream",
     "text": [
      "dict_items([('Manno', 1318), ('Bioggio', 2648), ('Lugano', 63932)])\n"
     ]
    }
   ],
   "source": [
    "print(pop.items()) # Returns a list of tuples, each containing two elements: key and value\n",
    "# To be precise, it is not a list, but an object that can be iterated as if it were a list"
   ]
  },
  {
   "cell_type": "code",
   "execution_count": 89,
   "metadata": {},
   "outputs": [
    {
     "name": "stdout",
     "output_type": "stream",
     "text": [
      "Key=Manno, Value=1318\n",
      "Key=Bioggio, Value=2648\n",
      "Key=Lugano, Value=63932\n"
     ]
    }
   ],
   "source": [
    "for tuple in pop.items(): # each element of the list-like object above\n",
    "    k = tuple[0]\n",
    "    v = tuple[1]\n",
    "    print(f\"Key={k}, Value={v}\")"
   ]
  },
  {
   "cell_type": "code",
   "execution_count": 90,
   "metadata": {},
   "outputs": [
    {
     "name": "stdout",
     "output_type": "stream",
     "text": [
      "Key=Manno, Value=1318\n",
      "Key=Bioggio, Value=2648\n",
      "Key=Lugano, Value=63932\n"
     ]
    }
   ],
   "source": [
    "# Even better (uses a very convenient function known as tuple unpacking)\n",
    "for tuple in pop.items():\n",
    "    k, v = tuple # assigns the first and second elements of tuple to k and v respectively\n",
    "    print(f\"Key={k}, Value={v}\")"
   ]
  },
  {
   "cell_type": "code",
   "execution_count": 91,
   "metadata": {},
   "outputs": [
    {
     "name": "stdout",
     "output_type": "stream",
     "text": [
      "Key=Manno, Value=1318\n",
      "Key=Bioggio, Value=2648\n",
      "Key=Lugano, Value=63932\n"
     ]
    }
   ],
   "source": [
    "# Even better\n",
    "for k, v in pop.items():\n",
    "    print(f\"Key={k}, Value={v}\")"
   ]
  },
  {
   "cell_type": "markdown",
   "metadata": {},
   "source": [
    "### 2.1\n",
    "Create a dictionary with at least 5 elements (generated as you like) where each person's name is associated with their age (specifically, each dictionary element should have the person's name as the key and their age as the value)."
   ]
  },
  {
   "cell_type": "code",
   "execution_count": 92,
   "metadata": {},
   "outputs": [
    {
     "name": "stdout",
     "output_type": "stream",
     "text": [
      "{'Alice': 30, 'Bob': 25, 'Charlie': 40, 'David': 33, 'Eva': 20}\n"
     ]
    }
   ],
   "source": [
    "# Solution\n",
    "people_ages = {\n",
    "    \"Alice\": 30,\n",
    "    \"Bob\": 25,\n",
    "    \"Charlie\": 40,\n",
    "    \"David\": 33,\n",
    "    \"Eva\": 20\n",
    "}\n",
    "print(people_ages)"
   ]
  },
  {
   "cell_type": "markdown",
   "metadata": {},
   "source": [
    "### 2.2\n",
    "Given a new list of names, print the string `\"{name} is {age} years old\"` (e.g., \"Luca is 22 years old\") for each name present in the dictionary. If the name is not in the dictionary, print `\"{name} is not present in the dictionary\"` (e.g., \"Antonio is not present in the dictionary\").\n",
    "\n",
    "Help: To create an iterable with the keys of a dictionary, use the dictionary's `keys()` method (see the cell below for an example)."
   ]
  },
  {
   "cell_type": "code",
   "execution_count": 93,
   "metadata": {},
   "outputs": [
    {
     "name": "stdout",
     "output_type": "stream",
     "text": [
      "Tree\n",
      "Flower\n"
     ]
    }
   ],
   "source": [
    "# Hint\n",
    "dictionary = {\"Tree\": (\"trunk\", \"branches\"), \"Flower\": (\"stem\", \"petal\")}\n",
    "for name in dictionary.keys():\n",
    "    print(name)"
   ]
  },
  {
   "cell_type": "code",
   "execution_count": 94,
   "metadata": {},
   "outputs": [
    {
     "name": "stdout",
     "output_type": "stream",
     "text": [
      "Alice is 30 years old\n",
      "Frank is not in present in the dictionary\n",
      "Eva is 20 years old\n"
     ]
    }
   ],
   "source": [
    "# Solution\n",
    "names = [\"Alice\", \"Frank\", \"Eva\"]\n",
    "for name in names:\n",
    "    if name in people_ages:\n",
    "        print(f\"{name} is {people_ages[name]} years old\")\n",
    "    else:\n",
    "        print(f\"{name} is not in present in the dictionary\")"
   ]
  },
  {
   "cell_type": "markdown",
   "metadata": {},
   "source": [
    "### 2.3\n",
    "Write a program that, for each element of the dictionary, prints the following string `{name} is {age} years old`.\n",
    "\n",
    "Help: To access the elements of the dictionary one by one (considering the `key, value` pairs), use the `items()` method as shown above and in the example below."
   ]
  },
  {
   "cell_type": "code",
   "execution_count": 95,
   "metadata": {},
   "outputs": [
    {
     "name": "stdout",
     "output_type": "stream",
     "text": [
      "Tree ('trunk', 'branches')\n",
      "Flower ('stem', 'petal')\n"
     ]
    }
   ],
   "source": [
    "# Hint\n",
    "\n",
    "for name, age in dictionary.items():\n",
    "    print(f\"{name} {age}\")"
   ]
  },
  {
   "cell_type": "code",
   "execution_count": 96,
   "metadata": {},
   "outputs": [
    {
     "name": "stdout",
     "output_type": "stream",
     "text": [
      "Alice is 30 years old\n",
      "Bob is 25 years old\n",
      "Charlie is 40 years old\n",
      "David is 33 years old\n",
      "Eva is 20 years old\n"
     ]
    }
   ],
   "source": [
    "# Solution\n",
    "for name, age in people_ages.items():\n",
    "    print(f\"{name} is {age} years old\")"
   ]
  },
  {
   "cell_type": "markdown",
   "metadata": {},
   "source": [
    "### 2.4\n",
    "Create a new dictionary that contains all the elements from the previous dictionary with ages between 23 years (inclusive) and 60 years (exclusive)."
   ]
  },
  {
   "cell_type": "code",
   "execution_count": 97,
   "metadata": {},
   "outputs": [
    {
     "name": "stdout",
     "output_type": "stream",
     "text": [
      "{'Alice': 30, 'Bob': 25, 'Charlie': 40, 'David': 33}\n"
     ]
    }
   ],
   "source": [
    "# Solution\n",
    "filtered_ages = {name: age for name, age in people_ages.items() if 23 <= age < 60}\n",
    "print(filtered_ages)"
   ]
  },
  {
   "cell_type": "markdown",
   "metadata": {},
   "source": [
    "## Esercizio 3 (strings)"
   ]
  },
  {
   "cell_type": "markdown",
   "metadata": {},
   "source": [
    "### 3.1\n",
    "Write a Python program that asks the user to input a sentence with at least 10 words. For simplicity, the sentence should not contain punctuation. Example of a sentence the user might enter: \"Today is a beautiful day Tomorrow will be a wonderful day\". Useful command to input a string from the command line: `input`.\n",
    "\n",
    "Once the sentence is entered, write a program that counts:\n",
    "- The number of words in the sentence. Useful command to create a list by splitting the string into words: `split` ([documentation](https://docs.python.org/3.6/library/stdtypes.html#str.split)).\n",
    "- The number of occurrences of each word in the sentence. Specifically, create a dictionary where the key is the word, and the value is the number of occurrences of that word. The count should be case-insensitive.\n",
    "- The number of occurrences of each letter in the sentence. Specifically, create a dictionary similar to the one above. The count should be case-insensitive.\n",
    "\n",
    "The cell below shows how the `input` and `split` commands work."
   ]
  },
  {
   "cell_type": "code",
   "execution_count": 98,
   "metadata": {},
   "outputs": [
    {
     "name": "stdin",
     "output_type": "stream",
     "text": [
      "Enter a sentence:  Ciao ciao come come stai stai\n"
     ]
    },
    {
     "name": "stdout",
     "output_type": "stream",
     "text": [
      "['Ciao', 'ciao', 'come', 'come', 'stai', 'stai']\n"
     ]
    }
   ],
   "source": [
    "# Hint\n",
    "string = input(\"Enter a sentence: \")\n",
    "words = string.split()\n",
    "print(words)"
   ]
  },
  {
   "cell_type": "code",
   "execution_count": 99,
   "metadata": {},
   "outputs": [
    {
     "name": "stdin",
     "output_type": "stream",
     "text": [
      "Enter a sentence with at least 10 words:  Ciao ciao come mai hai capito che questa frase ha più più di 10 10 parole\n"
     ]
    },
    {
     "name": "stdout",
     "output_type": "stream",
     "text": [
      "Number of words: 16\n",
      "Word occourrences: {'ciao': 2, 'come': 1, 'mai': 1, 'hai': 1, 'capito': 1, 'che': 1, 'questa': 1, 'frase': 1, 'ha': 1, 'più': 2, 'di': 1, '10': 2, 'parole': 1}\n"
     ]
    }
   ],
   "source": [
    "# Solution\n",
    "sentence = input(\"Enter a sentence with at least 10 words: \").lower()\n",
    "words = sentence.split()\n",
    "\n",
    "num_words = len(words)\n",
    "print(f\"Number of words: {num_words}\")\n",
    "\n",
    "word_count = {}\n",
    "for word in words:\n",
    "    if word in word_count:\n",
    "        word_count[word] += 1\n",
    "    else:\n",
    "        word_count[word] = 1\n",
    "print(f\"Word occourrences: {word_count}\")"
   ]
  },
  {
   "cell_type": "markdown",
   "metadata": {},
   "source": [
    "### 3.2 (optional)\n",
    "Write a Python program that, given a string (without punctuation), generates a new string by removing any duplicate words. The comparison for duplicate words should be case-insensitive. Useful command to create a string from a list: `join` [documentation](https://docs.python.org/3.6/library/stdtypes.html#str.join)."
   ]
  },
  {
   "cell_type": "code",
   "execution_count": 100,
   "metadata": {},
   "outputs": [
    {
     "name": "stdout",
     "output_type": "stream",
     "text": [
      "hello to everyone\n"
     ]
    }
   ],
   "source": [
    "# Hint\n",
    "wordList = ['hello', 'to', 'everyone']\n",
    "string = \" \".join(wordList)\n",
    "print(string)"
   ]
  },
  {
   "cell_type": "code",
   "execution_count": 104,
   "metadata": {},
   "outputs": [
    {
     "name": "stdin",
     "output_type": "stream",
     "text": [
      "Enter a sentence:  Ciao ciao come come stai stai\n"
     ]
    },
    {
     "name": "stdout",
     "output_type": "stream",
     "text": [
      "ciao come stai\n"
     ]
    }
   ],
   "source": [
    "# Solution\n",
    "sentence = input(\"Enter a sentence: \").lower()\n",
    "words = sentence.split()\n",
    "unique_words = dict.fromkeys(words)\n",
    "new_sentence = \" \".join(unique_words)\n",
    "print(new_sentence)"
   ]
  },
  {
   "cell_type": "markdown",
   "metadata": {},
   "source": [
    "## Exercise 4 (optional)\n",
    "\n",
    "Write a Python program that reads a text file and calculates the number of words of each length present in the file.\n",
    "\n",
    "For example, the string \"This is the Data Science lecture\" contains:\n",
    "- 0 words of length 1\n",
    "- 1 word of length 2\n",
    "- 1 word of length 3\n",
    "- 2 words of length 4\n",
    "- 0 words of length 5\n",
    "- 0 words of length 6\n",
    "- 2 words of length 7\n",
    "\n",
    "Then try using [this file](https://raw.githubusercontent.com/google/snappy/main/testdata/alice29.txt).\n"
   ]
  },
  {
   "cell_type": "code",
   "execution_count": 108,
   "metadata": {
    "tags": []
   },
   "outputs": [
    {
     "name": "stdout",
     "output_type": "stream",
     "text": [
      "940 words of length 1\n",
      "3742 words of length 2\n",
      "6184 words of length 3\n",
      "5357 words of length 4\n",
      "3513 words of length 5\n",
      "2521 words of length 6\n",
      "1715 words of length 7\n",
      "1104 words of length 8\n",
      "671 words of length 9\n",
      "320 words of length 10\n",
      "167 words of length 11\n",
      "103 words of length 12\n",
      "57 words of length 13\n",
      "33 words of length 14\n",
      "12 words of length 15\n",
      "8 words of length 16\n",
      "6 words of length 17\n",
      "1 words of length 18\n",
      "1 words of length 21\n",
      "2 words of length 25\n",
      "1 words of length 27\n"
     ]
    }
   ],
   "source": [
    "# Hint: iterate over file lines\n",
    "# f = open(\"demofile.txt\", \"r\")\n",
    "# for x in f:\n",
    "#   print(x)\n",
    "\n",
    "import urllib.request\n",
    "file_url = 'https://raw.githubusercontent.com/google/snappy/main/testdata/alice29.txt'\n",
    "response = urllib.request.urlopen(file_url)\n",
    "data = response.read().decode('utf-8')\n",
    "\n",
    "word_lengths = {}\n",
    "for word in data.split():\n",
    "    length = len(word)\n",
    "    if length in word_lengths:\n",
    "        word_lengths[length] += 1\n",
    "    else:\n",
    "        word_lengths[length] = 1\n",
    "for length, count in sorted(word_lengths.items()):\n",
    "    print(f\"{count} words of length {length}\")"
   ]
  }
 ],
 "metadata": {
  "kernelspec": {
   "display_name": "Python 3 (ipykernel)",
   "language": "python",
   "name": "python3"
  },
  "language_info": {
   "codemirror_mode": {
    "name": "ipython",
    "version": 3
   },
   "file_extension": ".py",
   "mimetype": "text/x-python",
   "name": "python",
   "nbconvert_exporter": "python",
   "pygments_lexer": "ipython3",
   "version": "3.12.9"
  },
  "widgets": {
   "application/vnd.jupyter.widget-state+json": {
    "state": {},
    "version_major": 2,
    "version_minor": 0
   }
  }
 },
 "nbformat": 4,
 "nbformat_minor": 4
}
